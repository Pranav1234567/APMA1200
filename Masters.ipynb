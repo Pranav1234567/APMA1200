{
 "cells": [
  {
   "cell_type": "code",
   "execution_count": 3,
   "metadata": {},
   "outputs": [],
   "source": [
    "import urllib.request\n",
    "import bs4\n",
    "from bs4 import BeautifulSoup\n",
    "import pandas as pd\n",
    "import datetime\n",
    "import numpy as np\n",
    "from numpy.linalg import svd\n",
    "import math"
   ]
  },
  {
   "cell_type": "code",
   "execution_count": 132,
   "metadata": {},
   "outputs": [],
   "source": [
    "# probably due to website update\n",
    "def formatURL(year):\n",
    "    url = \"\"\n",
    "    if(year < 2017):\n",
    "        url = \"https://www.golfchannel.com/tours/masters/\" + str(year) + \"/masters/\"\n",
    "    else:\n",
    "        url = \"https://www.golfchannel.com/tours/pga-tour/\" + str(year) + \"/masters-tournament/\"\n",
    "    return url\n",
    "def getDfs(year):\n",
    "    url = formatURL(year)\n",
    "    page = urllib.request.urlopen(url)\n",
    "    soup = BeautifulSoup(page, \"lxml\")\n",
    "    div =  soup.find(\"div\", class_ = \"full_leaderboard\")\n",
    "    tables = div.find_all('table')\n",
    "    tbody = tables[0].find_all('tbody')\n",
    "\n",
    "    A = []\n",
    "    B = []\n",
    "    C = []\n",
    "    D = []\n",
    "    E = []\n",
    "    F = []\n",
    "    G = []\n",
    "    H = []\n",
    "    I = []\n",
    "\n",
    "    for idx,row in enumerate(tbody[0].find_all('tr')):\n",
    "            cells = row.find_all('td')\n",
    "            if len(cells) >= 11:\n",
    "                rank = cells[1].find(text=True)\n",
    "                player_name = cells[3].find('a').find(text=True)\n",
    "                overall = cells[4].find(text=True)\n",
    "                rnd = cells[6].find(text=True)\n",
    "                r1 = cells[7].find(text=True)\n",
    "                r2 = cells[8].find(text=True)\n",
    "                r3 = cells[9].find(text=True)\n",
    "                r4 = cells[10].find(text=True)\n",
    "                tot = cells[11].find(text=True)\n",
    "                A.append(rank)\n",
    "                B.append(player_name)\n",
    "                C.append(overall)\n",
    "                D.append(rnd)\n",
    "                E.append(r1)\n",
    "                F.append(r2)\n",
    "                G.append(r3)\n",
    "                H.append(r4)\n",
    "                I.append(tot)\n",
    "\n",
    "    df = pd.DataFrame(A, columns=['RANK'])\n",
    "    df['PLAYER']=B\n",
    "    df['OVERALL']=C\n",
    "    df['RND']=D\n",
    "    df['R1']=E\n",
    "    df['R2']=F\n",
    "    df['R3']=G\n",
    "    df['R4']=H\n",
    "    df['TOT']=I\n",
    "\n",
    "    return df\n",
    "\n",
    "#players - array of player names\n",
    "#df - df containing all score data\n",
    "def getRankings(players, df):\n",
    "#     print(df.sort_values('R1').R1)\n",
    "    return df.loc[df['PLAYER'].isin(players)]\n",
    "\n",
    "# we record all the pairs of players\n",
    "# wins and losses are relative to player 1\n",
    "def createDict(players):\n",
    "    player_dict = dict()\n",
    "    num_players = len(players)\n",
    "    count = 0\n",
    "    for i in range(num_players):\n",
    "        for j in range(num_players):\n",
    "            if j > i:\n",
    "                player_dict[count] = {'wins': 0, 'losses': 0, 'player1': players[i], 'player2': players[j], 'player1_idx': i, 'player2_idx': j}\n",
    "                count += 1\n",
    "    return player_dict\n",
    "\n",
    "# 0-1 Metric\n",
    "def fillDict(players, dfs):\n",
    "    player_dict = createDict(players)\n",
    "    for df in dfs:\n",
    "        for key, value in player_dict.items():\n",
    "            # Assign wins per round: if he scores more per round, he gets a win, otherwise a loss\n",
    "            rd1_p1 = df.loc[df['PLAYER'] == str(value['player1'])].R1\n",
    "            rd1_p2 = df.loc[df['PLAYER'] == str(value['player2'])].R1\n",
    "            rd2_p1 = df.loc[df['PLAYER'] == str(value['player1'])].R2\n",
    "            rd2_p2 = df.loc[df['PLAYER'] == str(value['player2'])].R2\n",
    "            \n",
    "            rd3_p1 = df.loc[df['PLAYER'] == str(value['player1'])].R3\n",
    "            rd3_p2 = df.loc[df['PLAYER'] == str(value['player2'])].R3\n",
    "            rd4_p1 = df.loc[df['PLAYER'] == str(value['player1'])].R4\n",
    "            rd4_p2 = df.loc[df['PLAYER'] == str(value['player2'])].R4\n",
    "\n",
    "            for tup in [(rd1_p1, rd1_p2), (rd2_p1, rd2_p2), (rd3_p1, rd3_p2), (rd4_p1, rd4_p2)]:\n",
    "                 if not tup[0].isnull().iloc[0] and not tup[1].isnull().iloc[0]:\n",
    "                    if int(tup[0]) > int(tup[1]):\n",
    "                        player_dict[key]['losses'] += 1\n",
    "                    elif int(tup[0]) < int(tup[1]):\n",
    "                        player_dict[key]['wins'] += 1\n",
    "                    else:\n",
    "                        player_dict[key]['wins'] += 0.5\n",
    "                        player_dict[key]['losses'] += 0.5\n",
    "    return player_dict\n",
    "\n",
    "def generateRanking(df):\n",
    "    round1_sorted = df.sort_values('R1').reset_index()\n",
    "    round2_sorted = df.sort_values('R2').reset_index()\n",
    "    round3_sorted = df.sort_values('R3').reset_index()\n",
    "    round4_sorted = df.sort_values('R4').reset_index()\n",
    "    return (round1_sorted, round2_sorted, round3_sorted, round4_sorted)\n",
    "\n",
    "def tryAgainVotingMatrix(players, dfs, metric):\n",
    "    num_players = len(players)\n",
    "    votingMatrix = np.zeros(shape=(num_players, num_players))\n",
    "    for df in dfs:\n",
    "        count = 0\n",
    "        (round1_sorted, round2_sorted, round3_sorted, round4_sorted) = generateRanking(df)\n",
    "        for i in range(num_players):\n",
    "            for j in range(i, num_players):\n",
    "            # Assign wins per round: if he scores more per round, he gets a win, otherwise a loss\n",
    "                rd1_p1 = df.loc[df['PLAYER'] == str(players[i])].R1\n",
    "                rd1_p2 = df.loc[df['PLAYER'] == str(players[j])].R1\n",
    "                rd2_p1 = df.loc[df['PLAYER'] == str(players[i])].R2\n",
    "                rd2_p2 = df.loc[df['PLAYER'] == str(players[j])].R2\n",
    "\n",
    "                rd3_p1 = df.loc[df['PLAYER'] == str(players[i])].R3\n",
    "                rd3_p2 = df.loc[df['PLAYER'] == str(players[j])].R3\n",
    "                rd4_p1 = df.loc[df['PLAYER'] == str(players[i])].R4\n",
    "                rd4_p2 = df.loc[df['PLAYER'] == str(players[j])].R4\n",
    "                \n",
    "                rd1_p1_idx = round1_sorted.loc[round1_sorted['PLAYER'] == str(players[i])].index[0]\n",
    "                rd1_p2_idx = round1_sorted.loc[round1_sorted['PLAYER'] == str(players[j])].index[0]\n",
    "                rd2_p1_idx = round2_sorted.loc[round2_sorted['PLAYER'] == str(players[i])].index[0]\n",
    "                rd2_p2_idx = round2_sorted.loc[round2_sorted['PLAYER'] == str(players[j])].index[0]\n",
    "                rd3_p1_idx = round3_sorted.loc[round3_sorted['PLAYER'] == str(players[i])].index[0]\n",
    "                rd3_p2_idx = round3_sorted.loc[round3_sorted['PLAYER'] == str(players[j])].index[0]\n",
    "                rd4_p1_idx = round4_sorted.loc[round4_sorted['PLAYER'] == str(players[i])].index[0]\n",
    "                rd4_p2_idx = round4_sorted.loc[round4_sorted['PLAYER'] == str(players[j])].index[0]\n",
    "                \n",
    "                \n",
    "                for tup in [(rd1_p1, rd1_p2, rd1_p1_idx, rd1_p2_idx), (rd2_p1, rd2_p2, rd2_p1_idx, rd2_p2_idx), (rd3_p1, rd3_p2, rd3_p1_idx, rd3_p2_idx), (rd4_p1, rd4_p2, rd4_p1_idx, rd4_p2_idx)]:\n",
    "                    tup0_isnull = tup[0].isnull().iloc[0]\n",
    "                    tup1_isnull = tup[1].isnull().iloc[0]\n",
    "                    if not tup0_isnull:\n",
    "                        if not tup1_isnull:\n",
    "                            if str(metric) == \"0-1\":\n",
    "                                if int(tup[0]) > int(tup[1]):\n",
    "                                    votingMatrix[i][j] += 1\n",
    "                                elif int(tup[0]) < int(tup[1]):\n",
    "                                    votingMatrix[j][i] += 1\n",
    "                                else:\n",
    "                                    votingMatrix[j][i] += 0.5\n",
    "                                    votingMatrix[i][j] += 0.5\n",
    "                            elif str(metric) == \"1-alpha\":\n",
    "                                if int(tup[0]) > int(tup[1]):\n",
    "                                    votingMatrix[i][j] += 2\n",
    "                                    votingMatrix[j][i] += 1\n",
    "                                elif int(tup[0]) < int(tup[1]):\n",
    "                                    votingMatrix[j][i] += 2\n",
    "                                    votingMatrix[i][j] += 1\n",
    "                                else:\n",
    "                                    votingMatrix[j][i] += 0.5\n",
    "                                    votingMatrix[i][j] += 0.5\n",
    "                            elif str(metric) == \"discount_scores\":\n",
    "                                if int(tup[0]) > int(tup[1]):\n",
    "                                    votingMatrix[i][j] += math.exp(-int(tup[0])/int(tup[1]))\n",
    "                                elif int(tup[0]) < int(tup[1]):\n",
    "                                    votingMatrix[j][i] += math.exp(-int(tup[1])/int(tup[0]))\n",
    "                                else:\n",
    "                                    count += 1\n",
    "                                    votingMatrix[j][i] += 0.5*math.exp(-1)\n",
    "                                    votingMatrix[i][j] += 0.5*math.exp(-1)\n",
    "                            elif str(metric) == \"discount_ranks\":\n",
    "                                if int(tup[0]) > int(tup[1]):\n",
    "                                    votingMatrix[i][j] += math.exp(1*((tup[3]+1)/(tup[2] + 1)))\n",
    "                                elif int(tup[0]) < int(tup[1]):\n",
    "                                    votingMatrix[j][i] += math.exp(1*((tup[2]+1)/(tup[3] + 1)))\n",
    "                                else:\n",
    "                                    count += 1\n",
    "                                    votingMatrix[j][i] += 0.5*math.exp(-1)\n",
    "                                    votingMatrix[i][j] += 0.5*math.exp(-1)\n",
    "                        else:\n",
    "                            pass\n",
    "#                             if str(metric) == \"0-1\":\n",
    "#                                 votingMatrix[i][j] += 1\n",
    "#                             elif str(metric) == \"1-alpha\":\n",
    "#                                 votingMatrix[i][j] += 1.1\n",
    "#                                 votingMatrix[j][i] += 1\n",
    "#                             elif str(metric) == \"discount\":\n",
    "#                                 pass\n",
    "                    elif not tup1_isnull:\n",
    "                        pass\n",
    "#                         if str(metric) == \"0-1\":\n",
    "#                             votingMatrix[j][i] += 1\n",
    "#                         elif str(metric) == \"1-alpha\":\n",
    "#                             votingMatrix[j][i] += 1.1\n",
    "#                             votingMatrix[i][j] += 1\n",
    "#                         elif str(metric) == \"discount\":\n",
    "#                             pass\n",
    "    print(count)\n",
    "    return votingMatrix\n",
    "\n",
    "def buildVotingMatrix(player_dict, metric, players):\n",
    "    num_pairs = len(player_dict)\n",
    "    num_players = len(players)\n",
    "    votingMatrix = np.zeros(shape=(num_players, num_players))\n",
    "    for i in range(num_pairs):\n",
    "        if(str(metric) == \"0-1\"):\n",
    "            votingMatrix[player_dict[i]['player1_idx']][player_dict[i]['player2_idx']] = player_dict[i]['losses']\n",
    "            votingMatrix[player_dict[i]['player2_idx']][player_dict[i]['player1_idx']] = player_dict[i]['wins']\n",
    "        elif(str(metric) == \"1-alpha\"):\n",
    "            votingMatrix[player_dict[i]['player1_idx']][player_dict[i]['player2_idx']] = 1.1 * player_dict[i]['losses'] + player_dict[i]['wins'] \n",
    "            votingMatrix[player_dict[i]['player2_idx']][player_dict[i]['player1_idx']] = 1.1 * player_dict[i]['wins'] + player_dict[i]['losses']\n",
    "\n",
    "    return votingMatrix\n",
    "\n",
    "def buildTransitionMatrix(votingMatrix):\n",
    "    rows, cols = votingMatrix.shape\n",
    "    P = np.zeros(shape=(rows,cols))\n",
    "    for i in range(rows):\n",
    "        rowsum = np.sum(votingMatrix[i, :])\n",
    "        for j in range(cols):\n",
    "            P[i,j] = votingMatrix[i,j] / rowsum\n",
    "\n",
    "    return P\n",
    "\n",
    "# borrowed from Michael\n",
    "def nullspace(A, atol=1e-13, rtol=0):\n",
    "    A = np.atleast_2d(A)\n",
    "    u, s, vh = svd(A)\n",
    "    tol = max(atol, rtol * s[0])\n",
    "    nnz = (s >= tol).sum()\n",
    "    ns = vh[nnz:].conj().T\n",
    "    return ns\n",
    "\n",
    "def calcScores(P):\n",
    "    rows, cols = P.shape\n",
    "    A = P.transpose() - np.identity(rows)\n",
    "    return nullspace(A)\n",
    "\n",
    "def rankPlayers(scores, players):\n",
    "    idxs = list(range(len(players)))\n",
    "    list_scores = list(scores)\n",
    "    sorted_idxs = [x for _,x in sorted(zip(list_scores,idxs))]\n",
    "    sorted_players = [players[i] for i in sorted_idxs]\n",
    "    return sorted_players\n",
    "\n",
    "def computeRankedPlayers(player_dict, metric, players):\n",
    "    votingMatrix = buildVotingMatrix(player_dict, str(metric), players)\n",
    "    P = buildTransitionMatrix(votingMatrix)\n",
    "    scores = calcScores(P)\n",
    "    ranked_players = rankPlayers(scores, players)\n",
    "    return ranked_players\n",
    "\n",
    "def computeRanks(players, dfs, metric):\n",
    "    votingMatrix = tryAgainVotingMatrix(players, dfs, str(metric))\n",
    "    P = buildTransitionMatrix(votingMatrix)\n",
    "    scores = calcScores(P)\n",
    "    ranked_players = rankPlayers(scores, players)\n",
    "    return ranked_players\n",
    "\n",
    "def getAllOfficial(year):\n",
    "    url = \"https://www.pgatour.com/stats/stat.186.\" + str(year) + \".html\"\n",
    "    page = urllib.request.urlopen(url)\n",
    "    soup = BeautifulSoup(page, \"lxml\")\n",
    "    div =  soup.find(\"div\", class_ = \"details-table-wrap\")\n",
    "    tables = div.find_all('table')\n",
    "    \n",
    "    A = []\n",
    "    B = []\n",
    "    C = []\n",
    "    \n",
    "    for idx,row in enumerate(tables[0].find_all('tr')):\n",
    "            cells = row.find_all('td')\n",
    "            if len(cells) > 0:\n",
    "                this_week = str(cells[0].find(text=True)).strip('\\n')\n",
    "                last_week = str(cells[1].find(text=True)).strip('\\n')\n",
    "                player_name = str(cells[2].find('a').find(text=True)).strip('\\n')\n",
    "                \n",
    "                A.append(this_week)\n",
    "                B.append(last_week)\n",
    "                C.append(player_name)\n",
    "\n",
    "    df = pd.DataFrame(A, columns=['THIS WEEK'])\n",
    "    df['PLAYER']=C\n",
    "    df['LAST WEEK']=B\n",
    "\n",
    "    return df\n",
    "\n",
    "def nameFormat(name):\n",
    "    arr_name = name.replace(',', '').split()\n",
    "    return str(arr_name[1] + \" \" + arr_name[0])\n",
    "\n",
    "def getOfficial(year, players):\n",
    "    df = getAllOfficial(year)\n",
    "    players_formatted = map(nameFormat, players)\n",
    "    return df.loc[df['PLAYER'].isin(players_formatted)]\n",
    "\n",
    "def compareRankings(official, zero_one, one_alpha):\n",
    "    combined = np.hstack((official, zero_one))\n",
    "    all_rankings = np.hstack((combined, one_alpha))\n",
    "    columns = np.array(['official','0-1', '1-alpha']).transpose()\n",
    "    return pd.DataFrame(all_rankings, columns=columns)\n",
    "\n",
    "def mse(official, calculated):\n",
    "    df = pd.DataFrame(official, columns=['OFFICIAL'])\n",
    "    df['CALCULATED'] = calculated\n",
    "    df = df.reset_index()\n",
    "    s = 0\n",
    "    count = 0\n",
    "    for i in range(len(official)):\n",
    "        if official[i][0] != None:\n",
    "            s += (i - df.loc[df['CALCULATED'] == str(official[i][0])].index[0])**2\n",
    "            count += 1\n",
    "    return s / count"
   ]
  },
  {
   "cell_type": "code",
   "execution_count": 131,
   "metadata": {},
   "outputs": [
    {
     "ename": "KeyboardInterrupt",
     "evalue": "",
     "output_type": "error",
     "traceback": [
      "\u001b[0;31m---------------------------------------------------------------------------\u001b[0m",
      "\u001b[0;31mKeyboardInterrupt\u001b[0m                         Traceback (most recent call last)",
      "\u001b[0;32m<ipython-input-131-c6bae34c5d34>\u001b[0m in \u001b[0;36m<module>\u001b[0;34m()\u001b[0m\n\u001b[1;32m      3\u001b[0m \u001b[0mscores_2015\u001b[0m \u001b[0;34m=\u001b[0m \u001b[0mgetDfs\u001b[0m\u001b[0;34m(\u001b[0m\u001b[0;36m2015\u001b[0m\u001b[0;34m)\u001b[0m\u001b[0;34m\u001b[0m\u001b[0m\n\u001b[1;32m      4\u001b[0m \u001b[0mscores_2016\u001b[0m \u001b[0;34m=\u001b[0m \u001b[0mgetDfs\u001b[0m\u001b[0;34m(\u001b[0m\u001b[0;36m2016\u001b[0m\u001b[0;34m)\u001b[0m\u001b[0;34m\u001b[0m\u001b[0m\n\u001b[0;32m----> 5\u001b[0;31m \u001b[0mscores_2017\u001b[0m \u001b[0;34m=\u001b[0m \u001b[0mgetDfs\u001b[0m\u001b[0;34m(\u001b[0m\u001b[0;36m2017\u001b[0m\u001b[0;34m)\u001b[0m\u001b[0;34m\u001b[0m\u001b[0m\n\u001b[0m\u001b[1;32m      6\u001b[0m \u001b[0mscores_2018\u001b[0m \u001b[0;34m=\u001b[0m \u001b[0mgetDfs\u001b[0m\u001b[0;34m(\u001b[0m\u001b[0;36m2018\u001b[0m\u001b[0;34m)\u001b[0m\u001b[0;34m\u001b[0m\u001b[0m\n",
      "\u001b[0;32m<ipython-input-130-7932b60eab61>\u001b[0m in \u001b[0;36mgetDfs\u001b[0;34m(year)\u001b[0m\n\u001b[1;32m      9\u001b[0m \u001b[0;32mdef\u001b[0m \u001b[0mgetDfs\u001b[0m\u001b[0;34m(\u001b[0m\u001b[0myear\u001b[0m\u001b[0;34m)\u001b[0m\u001b[0;34m:\u001b[0m\u001b[0;34m\u001b[0m\u001b[0m\n\u001b[1;32m     10\u001b[0m     \u001b[0murl\u001b[0m \u001b[0;34m=\u001b[0m \u001b[0mformatURL\u001b[0m\u001b[0;34m(\u001b[0m\u001b[0myear\u001b[0m\u001b[0;34m)\u001b[0m\u001b[0;34m\u001b[0m\u001b[0m\n\u001b[0;32m---> 11\u001b[0;31m     \u001b[0mpage\u001b[0m \u001b[0;34m=\u001b[0m \u001b[0murllib\u001b[0m\u001b[0;34m.\u001b[0m\u001b[0mrequest\u001b[0m\u001b[0;34m.\u001b[0m\u001b[0murlopen\u001b[0m\u001b[0;34m(\u001b[0m\u001b[0murl\u001b[0m\u001b[0;34m)\u001b[0m\u001b[0;34m\u001b[0m\u001b[0m\n\u001b[0m\u001b[1;32m     12\u001b[0m     \u001b[0msoup\u001b[0m \u001b[0;34m=\u001b[0m \u001b[0mBeautifulSoup\u001b[0m\u001b[0;34m(\u001b[0m\u001b[0mpage\u001b[0m\u001b[0;34m,\u001b[0m \u001b[0;34m\"lxml\"\u001b[0m\u001b[0;34m)\u001b[0m\u001b[0;34m\u001b[0m\u001b[0m\n\u001b[1;32m     13\u001b[0m     \u001b[0mdiv\u001b[0m \u001b[0;34m=\u001b[0m  \u001b[0msoup\u001b[0m\u001b[0;34m.\u001b[0m\u001b[0mfind\u001b[0m\u001b[0;34m(\u001b[0m\u001b[0;34m\"div\"\u001b[0m\u001b[0;34m,\u001b[0m \u001b[0mclass_\u001b[0m \u001b[0;34m=\u001b[0m \u001b[0;34m\"full_leaderboard\"\u001b[0m\u001b[0;34m)\u001b[0m\u001b[0;34m\u001b[0m\u001b[0m\n",
      "\u001b[0;32m/Users/Pranav/miniconda3/lib/python3.5/urllib/request.py\u001b[0m in \u001b[0;36murlopen\u001b[0;34m(url, data, timeout, cafile, capath, cadefault, context)\u001b[0m\n\u001b[1;32m    161\u001b[0m     \u001b[0;32melse\u001b[0m\u001b[0;34m:\u001b[0m\u001b[0;34m\u001b[0m\u001b[0m\n\u001b[1;32m    162\u001b[0m         \u001b[0mopener\u001b[0m \u001b[0;34m=\u001b[0m \u001b[0m_opener\u001b[0m\u001b[0;34m\u001b[0m\u001b[0m\n\u001b[0;32m--> 163\u001b[0;31m     \u001b[0;32mreturn\u001b[0m \u001b[0mopener\u001b[0m\u001b[0;34m.\u001b[0m\u001b[0mopen\u001b[0m\u001b[0;34m(\u001b[0m\u001b[0murl\u001b[0m\u001b[0;34m,\u001b[0m \u001b[0mdata\u001b[0m\u001b[0;34m,\u001b[0m \u001b[0mtimeout\u001b[0m\u001b[0;34m)\u001b[0m\u001b[0;34m\u001b[0m\u001b[0m\n\u001b[0m\u001b[1;32m    164\u001b[0m \u001b[0;34m\u001b[0m\u001b[0m\n\u001b[1;32m    165\u001b[0m \u001b[0;32mdef\u001b[0m \u001b[0minstall_opener\u001b[0m\u001b[0;34m(\u001b[0m\u001b[0mopener\u001b[0m\u001b[0;34m)\u001b[0m\u001b[0;34m:\u001b[0m\u001b[0;34m\u001b[0m\u001b[0m\n",
      "\u001b[0;32m/Users/Pranav/miniconda3/lib/python3.5/urllib/request.py\u001b[0m in \u001b[0;36mopen\u001b[0;34m(self, fullurl, data, timeout)\u001b[0m\n\u001b[1;32m    464\u001b[0m             \u001b[0mreq\u001b[0m \u001b[0;34m=\u001b[0m \u001b[0mmeth\u001b[0m\u001b[0;34m(\u001b[0m\u001b[0mreq\u001b[0m\u001b[0;34m)\u001b[0m\u001b[0;34m\u001b[0m\u001b[0m\n\u001b[1;32m    465\u001b[0m \u001b[0;34m\u001b[0m\u001b[0m\n\u001b[0;32m--> 466\u001b[0;31m         \u001b[0mresponse\u001b[0m \u001b[0;34m=\u001b[0m \u001b[0mself\u001b[0m\u001b[0;34m.\u001b[0m\u001b[0m_open\u001b[0m\u001b[0;34m(\u001b[0m\u001b[0mreq\u001b[0m\u001b[0;34m,\u001b[0m \u001b[0mdata\u001b[0m\u001b[0;34m)\u001b[0m\u001b[0;34m\u001b[0m\u001b[0m\n\u001b[0m\u001b[1;32m    467\u001b[0m \u001b[0;34m\u001b[0m\u001b[0m\n\u001b[1;32m    468\u001b[0m         \u001b[0;31m# post-process response\u001b[0m\u001b[0;34m\u001b[0m\u001b[0;34m\u001b[0m\u001b[0m\n",
      "\u001b[0;32m/Users/Pranav/miniconda3/lib/python3.5/urllib/request.py\u001b[0m in \u001b[0;36m_open\u001b[0;34m(self, req, data)\u001b[0m\n\u001b[1;32m    482\u001b[0m         \u001b[0mprotocol\u001b[0m \u001b[0;34m=\u001b[0m \u001b[0mreq\u001b[0m\u001b[0;34m.\u001b[0m\u001b[0mtype\u001b[0m\u001b[0;34m\u001b[0m\u001b[0m\n\u001b[1;32m    483\u001b[0m         result = self._call_chain(self.handle_open, protocol, protocol +\n\u001b[0;32m--> 484\u001b[0;31m                                   '_open', req)\n\u001b[0m\u001b[1;32m    485\u001b[0m         \u001b[0;32mif\u001b[0m \u001b[0mresult\u001b[0m\u001b[0;34m:\u001b[0m\u001b[0;34m\u001b[0m\u001b[0m\n\u001b[1;32m    486\u001b[0m             \u001b[0;32mreturn\u001b[0m \u001b[0mresult\u001b[0m\u001b[0;34m\u001b[0m\u001b[0m\n",
      "\u001b[0;32m/Users/Pranav/miniconda3/lib/python3.5/urllib/request.py\u001b[0m in \u001b[0;36m_call_chain\u001b[0;34m(self, chain, kind, meth_name, *args)\u001b[0m\n\u001b[1;32m    442\u001b[0m         \u001b[0;32mfor\u001b[0m \u001b[0mhandler\u001b[0m \u001b[0;32min\u001b[0m \u001b[0mhandlers\u001b[0m\u001b[0;34m:\u001b[0m\u001b[0;34m\u001b[0m\u001b[0m\n\u001b[1;32m    443\u001b[0m             \u001b[0mfunc\u001b[0m \u001b[0;34m=\u001b[0m \u001b[0mgetattr\u001b[0m\u001b[0;34m(\u001b[0m\u001b[0mhandler\u001b[0m\u001b[0;34m,\u001b[0m \u001b[0mmeth_name\u001b[0m\u001b[0;34m)\u001b[0m\u001b[0;34m\u001b[0m\u001b[0m\n\u001b[0;32m--> 444\u001b[0;31m             \u001b[0mresult\u001b[0m \u001b[0;34m=\u001b[0m \u001b[0mfunc\u001b[0m\u001b[0;34m(\u001b[0m\u001b[0;34m*\u001b[0m\u001b[0margs\u001b[0m\u001b[0;34m)\u001b[0m\u001b[0;34m\u001b[0m\u001b[0m\n\u001b[0m\u001b[1;32m    445\u001b[0m             \u001b[0;32mif\u001b[0m \u001b[0mresult\u001b[0m \u001b[0;32mis\u001b[0m \u001b[0;32mnot\u001b[0m \u001b[0;32mNone\u001b[0m\u001b[0;34m:\u001b[0m\u001b[0;34m\u001b[0m\u001b[0m\n\u001b[1;32m    446\u001b[0m                 \u001b[0;32mreturn\u001b[0m \u001b[0mresult\u001b[0m\u001b[0;34m\u001b[0m\u001b[0m\n",
      "\u001b[0;32m/Users/Pranav/miniconda3/lib/python3.5/urllib/request.py\u001b[0m in \u001b[0;36mhttps_open\u001b[0;34m(self, req)\u001b[0m\n\u001b[1;32m   1295\u001b[0m         \u001b[0;32mdef\u001b[0m \u001b[0mhttps_open\u001b[0m\u001b[0;34m(\u001b[0m\u001b[0mself\u001b[0m\u001b[0;34m,\u001b[0m \u001b[0mreq\u001b[0m\u001b[0;34m)\u001b[0m\u001b[0;34m:\u001b[0m\u001b[0;34m\u001b[0m\u001b[0m\n\u001b[1;32m   1296\u001b[0m             return self.do_open(http.client.HTTPSConnection, req,\n\u001b[0;32m-> 1297\u001b[0;31m                 context=self._context, check_hostname=self._check_hostname)\n\u001b[0m\u001b[1;32m   1298\u001b[0m \u001b[0;34m\u001b[0m\u001b[0m\n\u001b[1;32m   1299\u001b[0m         \u001b[0mhttps_request\u001b[0m \u001b[0;34m=\u001b[0m \u001b[0mAbstractHTTPHandler\u001b[0m\u001b[0;34m.\u001b[0m\u001b[0mdo_request_\u001b[0m\u001b[0;34m\u001b[0m\u001b[0m\n",
      "\u001b[0;32m/Users/Pranav/miniconda3/lib/python3.5/urllib/request.py\u001b[0m in \u001b[0;36mdo_open\u001b[0;34m(self, http_class, req, **http_conn_args)\u001b[0m\n\u001b[1;32m   1255\u001b[0m             \u001b[0;32mexcept\u001b[0m \u001b[0mOSError\u001b[0m \u001b[0;32mas\u001b[0m \u001b[0merr\u001b[0m\u001b[0;34m:\u001b[0m \u001b[0;31m# timeout error\u001b[0m\u001b[0;34m\u001b[0m\u001b[0m\n\u001b[1;32m   1256\u001b[0m                 \u001b[0;32mraise\u001b[0m \u001b[0mURLError\u001b[0m\u001b[0;34m(\u001b[0m\u001b[0merr\u001b[0m\u001b[0;34m)\u001b[0m\u001b[0;34m\u001b[0m\u001b[0m\n\u001b[0;32m-> 1257\u001b[0;31m             \u001b[0mr\u001b[0m \u001b[0;34m=\u001b[0m \u001b[0mh\u001b[0m\u001b[0;34m.\u001b[0m\u001b[0mgetresponse\u001b[0m\u001b[0;34m(\u001b[0m\u001b[0;34m)\u001b[0m\u001b[0;34m\u001b[0m\u001b[0m\n\u001b[0m\u001b[1;32m   1258\u001b[0m         \u001b[0;32mexcept\u001b[0m\u001b[0;34m:\u001b[0m\u001b[0;34m\u001b[0m\u001b[0m\n\u001b[1;32m   1259\u001b[0m             \u001b[0mh\u001b[0m\u001b[0;34m.\u001b[0m\u001b[0mclose\u001b[0m\u001b[0;34m(\u001b[0m\u001b[0;34m)\u001b[0m\u001b[0;34m\u001b[0m\u001b[0m\n",
      "\u001b[0;32m/Users/Pranav/miniconda3/lib/python3.5/http/client.py\u001b[0m in \u001b[0;36mgetresponse\u001b[0;34m(self)\u001b[0m\n\u001b[1;32m   1196\u001b[0m         \u001b[0;32mtry\u001b[0m\u001b[0;34m:\u001b[0m\u001b[0;34m\u001b[0m\u001b[0m\n\u001b[1;32m   1197\u001b[0m             \u001b[0;32mtry\u001b[0m\u001b[0;34m:\u001b[0m\u001b[0;34m\u001b[0m\u001b[0m\n\u001b[0;32m-> 1198\u001b[0;31m                 \u001b[0mresponse\u001b[0m\u001b[0;34m.\u001b[0m\u001b[0mbegin\u001b[0m\u001b[0;34m(\u001b[0m\u001b[0;34m)\u001b[0m\u001b[0;34m\u001b[0m\u001b[0m\n\u001b[0m\u001b[1;32m   1199\u001b[0m             \u001b[0;32mexcept\u001b[0m \u001b[0mConnectionError\u001b[0m\u001b[0;34m:\u001b[0m\u001b[0;34m\u001b[0m\u001b[0m\n\u001b[1;32m   1200\u001b[0m                 \u001b[0mself\u001b[0m\u001b[0;34m.\u001b[0m\u001b[0mclose\u001b[0m\u001b[0;34m(\u001b[0m\u001b[0;34m)\u001b[0m\u001b[0;34m\u001b[0m\u001b[0m\n",
      "\u001b[0;32m/Users/Pranav/miniconda3/lib/python3.5/http/client.py\u001b[0m in \u001b[0;36mbegin\u001b[0;34m(self)\u001b[0m\n\u001b[1;32m    295\u001b[0m         \u001b[0;31m# read until we get a non-100 response\u001b[0m\u001b[0;34m\u001b[0m\u001b[0;34m\u001b[0m\u001b[0m\n\u001b[1;32m    296\u001b[0m         \u001b[0;32mwhile\u001b[0m \u001b[0;32mTrue\u001b[0m\u001b[0;34m:\u001b[0m\u001b[0;34m\u001b[0m\u001b[0m\n\u001b[0;32m--> 297\u001b[0;31m             \u001b[0mversion\u001b[0m\u001b[0;34m,\u001b[0m \u001b[0mstatus\u001b[0m\u001b[0;34m,\u001b[0m \u001b[0mreason\u001b[0m \u001b[0;34m=\u001b[0m \u001b[0mself\u001b[0m\u001b[0;34m.\u001b[0m\u001b[0m_read_status\u001b[0m\u001b[0;34m(\u001b[0m\u001b[0;34m)\u001b[0m\u001b[0;34m\u001b[0m\u001b[0m\n\u001b[0m\u001b[1;32m    298\u001b[0m             \u001b[0;32mif\u001b[0m \u001b[0mstatus\u001b[0m \u001b[0;34m!=\u001b[0m \u001b[0mCONTINUE\u001b[0m\u001b[0;34m:\u001b[0m\u001b[0;34m\u001b[0m\u001b[0m\n\u001b[1;32m    299\u001b[0m                 \u001b[0;32mbreak\u001b[0m\u001b[0;34m\u001b[0m\u001b[0m\n",
      "\u001b[0;32m/Users/Pranav/miniconda3/lib/python3.5/http/client.py\u001b[0m in \u001b[0;36m_read_status\u001b[0;34m(self)\u001b[0m\n\u001b[1;32m    256\u001b[0m \u001b[0;34m\u001b[0m\u001b[0m\n\u001b[1;32m    257\u001b[0m     \u001b[0;32mdef\u001b[0m \u001b[0m_read_status\u001b[0m\u001b[0;34m(\u001b[0m\u001b[0mself\u001b[0m\u001b[0;34m)\u001b[0m\u001b[0;34m:\u001b[0m\u001b[0;34m\u001b[0m\u001b[0m\n\u001b[0;32m--> 258\u001b[0;31m         \u001b[0mline\u001b[0m \u001b[0;34m=\u001b[0m \u001b[0mstr\u001b[0m\u001b[0;34m(\u001b[0m\u001b[0mself\u001b[0m\u001b[0;34m.\u001b[0m\u001b[0mfp\u001b[0m\u001b[0;34m.\u001b[0m\u001b[0mreadline\u001b[0m\u001b[0;34m(\u001b[0m\u001b[0m_MAXLINE\u001b[0m \u001b[0;34m+\u001b[0m \u001b[0;36m1\u001b[0m\u001b[0;34m)\u001b[0m\u001b[0;34m,\u001b[0m \u001b[0;34m\"iso-8859-1\"\u001b[0m\u001b[0;34m)\u001b[0m\u001b[0;34m\u001b[0m\u001b[0m\n\u001b[0m\u001b[1;32m    259\u001b[0m         \u001b[0;32mif\u001b[0m \u001b[0mlen\u001b[0m\u001b[0;34m(\u001b[0m\u001b[0mline\u001b[0m\u001b[0;34m)\u001b[0m \u001b[0;34m>\u001b[0m \u001b[0m_MAXLINE\u001b[0m\u001b[0;34m:\u001b[0m\u001b[0;34m\u001b[0m\u001b[0m\n\u001b[1;32m    260\u001b[0m             \u001b[0;32mraise\u001b[0m \u001b[0mLineTooLong\u001b[0m\u001b[0;34m(\u001b[0m\u001b[0;34m\"status line\"\u001b[0m\u001b[0;34m)\u001b[0m\u001b[0;34m\u001b[0m\u001b[0m\n",
      "\u001b[0;32m/Users/Pranav/miniconda3/lib/python3.5/socket.py\u001b[0m in \u001b[0;36mreadinto\u001b[0;34m(self, b)\u001b[0m\n\u001b[1;32m    574\u001b[0m         \u001b[0;32mwhile\u001b[0m \u001b[0;32mTrue\u001b[0m\u001b[0;34m:\u001b[0m\u001b[0;34m\u001b[0m\u001b[0m\n\u001b[1;32m    575\u001b[0m             \u001b[0;32mtry\u001b[0m\u001b[0;34m:\u001b[0m\u001b[0;34m\u001b[0m\u001b[0m\n\u001b[0;32m--> 576\u001b[0;31m                 \u001b[0;32mreturn\u001b[0m \u001b[0mself\u001b[0m\u001b[0;34m.\u001b[0m\u001b[0m_sock\u001b[0m\u001b[0;34m.\u001b[0m\u001b[0mrecv_into\u001b[0m\u001b[0;34m(\u001b[0m\u001b[0mb\u001b[0m\u001b[0;34m)\u001b[0m\u001b[0;34m\u001b[0m\u001b[0m\n\u001b[0m\u001b[1;32m    577\u001b[0m             \u001b[0;32mexcept\u001b[0m \u001b[0mtimeout\u001b[0m\u001b[0;34m:\u001b[0m\u001b[0;34m\u001b[0m\u001b[0m\n\u001b[1;32m    578\u001b[0m                 \u001b[0mself\u001b[0m\u001b[0;34m.\u001b[0m\u001b[0m_timeout_occurred\u001b[0m \u001b[0;34m=\u001b[0m \u001b[0;32mTrue\u001b[0m\u001b[0;34m\u001b[0m\u001b[0m\n",
      "\u001b[0;32m/Users/Pranav/miniconda3/lib/python3.5/ssl.py\u001b[0m in \u001b[0;36mrecv_into\u001b[0;34m(self, buffer, nbytes, flags)\u001b[0m\n\u001b[1;32m    935\u001b[0m                   \u001b[0;34m\"non-zero flags not allowed in calls to recv_into() on %s\"\u001b[0m \u001b[0;34m%\u001b[0m\u001b[0;34m\u001b[0m\u001b[0m\n\u001b[1;32m    936\u001b[0m                   self.__class__)\n\u001b[0;32m--> 937\u001b[0;31m             \u001b[0;32mreturn\u001b[0m \u001b[0mself\u001b[0m\u001b[0;34m.\u001b[0m\u001b[0mread\u001b[0m\u001b[0;34m(\u001b[0m\u001b[0mnbytes\u001b[0m\u001b[0;34m,\u001b[0m \u001b[0mbuffer\u001b[0m\u001b[0;34m)\u001b[0m\u001b[0;34m\u001b[0m\u001b[0m\n\u001b[0m\u001b[1;32m    938\u001b[0m         \u001b[0;32melse\u001b[0m\u001b[0;34m:\u001b[0m\u001b[0;34m\u001b[0m\u001b[0m\n\u001b[1;32m    939\u001b[0m             \u001b[0;32mreturn\u001b[0m \u001b[0msocket\u001b[0m\u001b[0;34m.\u001b[0m\u001b[0mrecv_into\u001b[0m\u001b[0;34m(\u001b[0m\u001b[0mself\u001b[0m\u001b[0;34m,\u001b[0m \u001b[0mbuffer\u001b[0m\u001b[0;34m,\u001b[0m \u001b[0mnbytes\u001b[0m\u001b[0;34m,\u001b[0m \u001b[0mflags\u001b[0m\u001b[0;34m)\u001b[0m\u001b[0;34m\u001b[0m\u001b[0m\n",
      "\u001b[0;32m/Users/Pranav/miniconda3/lib/python3.5/ssl.py\u001b[0m in \u001b[0;36mread\u001b[0;34m(self, len, buffer)\u001b[0m\n\u001b[1;32m    797\u001b[0m             \u001b[0;32mraise\u001b[0m \u001b[0mValueError\u001b[0m\u001b[0;34m(\u001b[0m\u001b[0;34m\"Read on closed or unwrapped SSL socket.\"\u001b[0m\u001b[0;34m)\u001b[0m\u001b[0;34m\u001b[0m\u001b[0m\n\u001b[1;32m    798\u001b[0m         \u001b[0;32mtry\u001b[0m\u001b[0;34m:\u001b[0m\u001b[0;34m\u001b[0m\u001b[0m\n\u001b[0;32m--> 799\u001b[0;31m             \u001b[0;32mreturn\u001b[0m \u001b[0mself\u001b[0m\u001b[0;34m.\u001b[0m\u001b[0m_sslobj\u001b[0m\u001b[0;34m.\u001b[0m\u001b[0mread\u001b[0m\u001b[0;34m(\u001b[0m\u001b[0mlen\u001b[0m\u001b[0;34m,\u001b[0m \u001b[0mbuffer\u001b[0m\u001b[0;34m)\u001b[0m\u001b[0;34m\u001b[0m\u001b[0m\n\u001b[0m\u001b[1;32m    800\u001b[0m         \u001b[0;32mexcept\u001b[0m \u001b[0mSSLError\u001b[0m \u001b[0;32mas\u001b[0m \u001b[0mx\u001b[0m\u001b[0;34m:\u001b[0m\u001b[0;34m\u001b[0m\u001b[0m\n\u001b[1;32m    801\u001b[0m             \u001b[0;32mif\u001b[0m \u001b[0mx\u001b[0m\u001b[0;34m.\u001b[0m\u001b[0margs\u001b[0m\u001b[0;34m[\u001b[0m\u001b[0;36m0\u001b[0m\u001b[0;34m]\u001b[0m \u001b[0;34m==\u001b[0m \u001b[0mSSL_ERROR_EOF\u001b[0m \u001b[0;32mand\u001b[0m \u001b[0mself\u001b[0m\u001b[0;34m.\u001b[0m\u001b[0msuppress_ragged_eofs\u001b[0m\u001b[0;34m:\u001b[0m\u001b[0;34m\u001b[0m\u001b[0m\n",
      "\u001b[0;32m/Users/Pranav/miniconda3/lib/python3.5/ssl.py\u001b[0m in \u001b[0;36mread\u001b[0;34m(self, len, buffer)\u001b[0m\n\u001b[1;32m    581\u001b[0m         \"\"\"\n\u001b[1;32m    582\u001b[0m         \u001b[0;32mif\u001b[0m \u001b[0mbuffer\u001b[0m \u001b[0;32mis\u001b[0m \u001b[0;32mnot\u001b[0m \u001b[0;32mNone\u001b[0m\u001b[0;34m:\u001b[0m\u001b[0;34m\u001b[0m\u001b[0m\n\u001b[0;32m--> 583\u001b[0;31m             \u001b[0mv\u001b[0m \u001b[0;34m=\u001b[0m \u001b[0mself\u001b[0m\u001b[0;34m.\u001b[0m\u001b[0m_sslobj\u001b[0m\u001b[0;34m.\u001b[0m\u001b[0mread\u001b[0m\u001b[0;34m(\u001b[0m\u001b[0mlen\u001b[0m\u001b[0;34m,\u001b[0m \u001b[0mbuffer\u001b[0m\u001b[0;34m)\u001b[0m\u001b[0;34m\u001b[0m\u001b[0m\n\u001b[0m\u001b[1;32m    584\u001b[0m         \u001b[0;32melse\u001b[0m\u001b[0;34m:\u001b[0m\u001b[0;34m\u001b[0m\u001b[0m\n\u001b[1;32m    585\u001b[0m             \u001b[0mv\u001b[0m \u001b[0;34m=\u001b[0m \u001b[0mself\u001b[0m\u001b[0;34m.\u001b[0m\u001b[0m_sslobj\u001b[0m\u001b[0;34m.\u001b[0m\u001b[0mread\u001b[0m\u001b[0;34m(\u001b[0m\u001b[0mlen\u001b[0m\u001b[0;34m)\u001b[0m\u001b[0;34m\u001b[0m\u001b[0m\n",
      "\u001b[0;31mKeyboardInterrupt\u001b[0m: "
     ]
    }
   ],
   "source": [
    "# scores for the past 5 years\n",
    "scores_2014 = getDfs(2014)\n",
    "scores_2015 = getDfs(2015)\n",
    "scores_2016 = getDfs(2016)\n",
    "scores_2017 = getDfs(2017)\n",
    "scores_2018 = getDfs(2018)"
   ]
  },
  {
   "cell_type": "code",
   "execution_count": null,
   "metadata": {},
   "outputs": [],
   "source": [
    "intersect_2014_2015_2016 = np.intersect1d(scores_2014.PLAYER, np.intersect1d(scores_2015.PLAYER, scores_2016.PLAYER))\n",
    "intersect_2017 = np.intersect1d(scores_2017.PLAYER, scores_2018.PLAYER)\n",
    "\n",
    "common_players = np.intersect1d(intersect_2014_2015_2016, intersect_2017)\n",
    "\n",
    "rankings_2014 = getRankings(common_players, scores_2014).reset_index()\n",
    "rankings_2015 = getRankings(common_players, scores_2015).reset_index()\n",
    "rankings_2016 = getRankings(common_players, scores_2016).reset_index()\n",
    "rankings_2017 = getRankings(common_players, scores_2017).reset_index()\n",
    "rankings_2018 = getRankings(common_players, scores_2018).reset_index()"
   ]
  },
  {
   "cell_type": "code",
   "execution_count": 7,
   "metadata": {},
   "outputs": [],
   "source": [
    "all_rankings = [rankings_2014, rankings_2015, rankings_2016, rankings_2017, rankings_2018]\n",
    "player_dict = fillDict(common_players, all_rankings)\n",
    "\n",
    "# 0-1 Metric\n",
    "ranked_players_01 = list(map(nameFormat, computeRankedPlayers(player_dict, \"0-1\", common_players)))\n",
    "\n",
    "# 1-alpha Metric\n",
    "ranked_players_1alpha = list(map(nameFormat, computeRankedPlayers(player_dict, \"1-alpha\", common_players)))\n",
    "\n",
    "# compared to this (YTD Official World Golf Ranking)\n",
    "official_2018 = getOfficial(2018, common_players)"
   ]
  },
  {
   "cell_type": "code",
   "execution_count": 8,
   "metadata": {},
   "outputs": [],
   "source": [
    "# # # Best to Worst\n",
    "# resize_01 = np.array(ranked_players_01).reshape(len(ranked_players_01), 1)\n",
    "# resize_1alpha = np.array(ranked_players_1alpha).reshape(len(ranked_players_1alpha), 1)\n",
    "resize_official = np.full((len(ranked_players_1alpha), 1), None)\n",
    "resize_official[:len(official_2018)] = np.array(official_2018['PLAYER']).reshape(len(official_2018), 1)\n",
    "\n",
    "list_resize_official = list(resize_official)\n",
    "\n",
    "# mse_01 = mse(list_resize_official, ranked_players_01)\n",
    "# mse_1alpha = mse(list_resize_official, ranked_players_1alpha)\n",
    "\n",
    "# comparison_table = compareRankings(resize_official, resize_01, resize_1alpha)\n",
    "# print(comparison_table)\n",
    "# print(mse_01)\n",
    "# print(mse_1alpha)\n",
    "# # comparison_table.to_csv(\"rankings.csv\")"
   ]
  },
  {
   "cell_type": "code",
   "execution_count": 84,
   "metadata": {},
   "outputs": [
    {
     "name": "stdout",
     "output_type": "stream",
     "text": [
      "0\n",
      "22.9130434783\n"
     ]
    }
   ],
   "source": [
    "# print(buildVotingMatrix(player_dict, \"0-1\", common_players))\n",
    "# print(tryAgainVotingMatrix(common_players, all_rankings, \"0-1\"))\n",
    "# 0-1 Metric\n",
    "ranked_players_01_new = list(map(nameFormat, computeRanks(common_players, all_rankings, \"0-1\")))\n",
    "mse_01_new = mse(list_resize_official, ranked_players_01_new)\n",
    "print(mse_01_new)\n"
   ]
  },
  {
   "cell_type": "code",
   "execution_count": 133,
   "metadata": {},
   "outputs": [
    {
     "name": "stdout",
     "output_type": "stream",
     "text": [
      "0\n",
      "35.6956521739\n"
     ]
    }
   ],
   "source": [
    "# 1-alpha Metric\n",
    "ranked_players_1alpha_new = list(map(nameFormat, computeRanks(common_players, all_rankings, \"1-alpha\")))\n",
    "mse_1alpha_new = mse(list_resize_official, ranked_players_1alpha_new)\n",
    "print(mse_1alpha_new)"
   ]
  },
  {
   "cell_type": "code",
   "execution_count": 86,
   "metadata": {},
   "outputs": [
    {
     "name": "stdout",
     "output_type": "stream",
     "text": [
      "212\n",
      "22.9130434783\n"
     ]
    }
   ],
   "source": [
    "# discount scores Metric\n",
    "ranked_players_discount = list(map(nameFormat, computeRanks(common_players, all_rankings, \"discount_scores\")))\n",
    "mse_discount = mse(list_resize_official, ranked_players_discount)\n",
    "print(mse_discount)"
   ]
  },
  {
   "cell_type": "code",
   "execution_count": 89,
   "metadata": {},
   "outputs": [
    {
     "name": "stdout",
     "output_type": "stream",
     "text": [
      "212\n",
      "29.0434782609\n"
     ]
    }
   ],
   "source": [
    "# discount ranks Metric\n",
    "ranked_players_discount_ranks = list(map(nameFormat, computeRanks(common_players, all_rankings, \"discount_ranks\")))\n",
    "mse_discount_ranks = mse(list_resize_official, ranked_players_discount_ranks)\n",
    "print(mse_discount_ranks)"
   ]
  },
  {
   "cell_type": "code",
   "execution_count": 50,
   "metadata": {},
   "outputs": [
    {
     "name": "stdout",
     "output_type": "stream",
     "text": [
      "False\n",
      "False\n",
      "True\n",
      "True\n",
      "False\n",
      "False\n",
      "False\n",
      "False\n",
      "True\n",
      "False\n",
      "False\n",
      "False\n",
      "True\n",
      "False\n",
      "False\n",
      "False\n",
      "False\n",
      "False\n",
      "False\n",
      "True\n",
      "True\n",
      "True\n",
      "True\n",
      "True\n",
      "True\n",
      "True\n",
      "True\n",
      "False\n",
      "False\n",
      "False\n",
      "True\n"
     ]
    }
   ],
   "source": [
    "for i in range(len(ranked_players_01_new)):\n",
    "    print(ranked_players_01_new[i] == ranked_players_discount_ranks[i])"
   ]
  },
  {
   "cell_type": "code",
   "execution_count": 134,
   "metadata": {},
   "outputs": [],
   "source": [
    "# different 2018 official scores\n",
    "ranked_2018_list = list(np.array(list(map(nameFormat, np.array(rankings_2018[\"PLAYER\"])))).reshape(len(rankings_2018[\"PLAYER\"]), 1))\n",
    "new_mse_discount_ranks = mse(ranked_2018_list, ranked_players_discount_ranks)\n",
    "new_mse_discount_scores = mse(ranked_2018_list, ranked_players_discount)\n",
    "new_mse_01 = mse(ranked_2018_list, ranked_players_01_new)\n",
    "new_mse_1alpha = mse(ranked_2018_list, ranked_players_1alpha_new)"
   ]
  },
  {
   "cell_type": "code",
   "execution_count": 104,
   "metadata": {},
   "outputs": [
    {
     "data": {
      "text/plain": [
       "29.161290322580644"
      ]
     },
     "execution_count": 104,
     "metadata": {},
     "output_type": "execute_result"
    }
   ],
   "source": [
    "new_mse_discount_ranks"
   ]
  },
  {
   "cell_type": "code",
   "execution_count": 105,
   "metadata": {},
   "outputs": [
    {
     "data": {
      "text/plain": [
       "30.0"
      ]
     },
     "execution_count": 105,
     "metadata": {},
     "output_type": "execute_result"
    }
   ],
   "source": [
    "new_mse_discount_scores"
   ]
  },
  {
   "cell_type": "code",
   "execution_count": 106,
   "metadata": {},
   "outputs": [
    {
     "data": {
      "text/plain": [
       "30.0"
      ]
     },
     "execution_count": 106,
     "metadata": {},
     "output_type": "execute_result"
    }
   ],
   "source": [
    "new_mse_01"
   ]
  },
  {
   "cell_type": "code",
   "execution_count": 135,
   "metadata": {},
   "outputs": [
    {
     "data": {
      "text/plain": [
       "38.0"
      ]
     },
     "execution_count": 135,
     "metadata": {},
     "output_type": "execute_result"
    }
   ],
   "source": [
    "new_mse_1alpha"
   ]
  },
  {
   "cell_type": "code",
   "execution_count": null,
   "metadata": {},
   "outputs": [],
   "source": []
  }
 ],
 "metadata": {
  "kernelspec": {
   "display_name": "Python 3",
   "language": "python",
   "name": "python3"
  },
  "language_info": {
   "codemirror_mode": {
    "name": "ipython",
    "version": 3
   },
   "file_extension": ".py",
   "mimetype": "text/x-python",
   "name": "python",
   "nbconvert_exporter": "python",
   "pygments_lexer": "ipython3",
   "version": "3.5.4"
  }
 },
 "nbformat": 4,
 "nbformat_minor": 2
}
