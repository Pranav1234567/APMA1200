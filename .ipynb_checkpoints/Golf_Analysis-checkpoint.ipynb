{
 "cells": [
  {
   "cell_type": "code",
   "execution_count": 1,
   "metadata": {},
   "outputs": [],
   "source": [
    "import urllib.request\n",
    "import bs4\n",
    "from bs4 import BeautifulSoup\n",
    "import pandas as pd\n",
    "import datetime\n",
    "import numpy as np\n",
    "from numpy.linalg import svd\n",
    "import math"
   ]
  },
  {
   "cell_type": "code",
   "execution_count": 2,
   "metadata": {},
   "outputs": [],
   "source": [
    "# formats URL for scraping\n",
    "def formatURL(year):\n",
    "    url = \"\"\n",
    "    if(year < 2017):\n",
    "        url = \"https://www.golfchannel.com/tours/masters/\" + str(year) + \"/masters/\"\n",
    "    else:\n",
    "        url = \"https://www.golfchannel.com/tours/pga-tour/\" + str(year) + \"/masters-tournament/\"\n",
    "    return url"
   ]
  },
  {
   "cell_type": "code",
   "execution_count": 3,
   "metadata": {},
   "outputs": [],
   "source": [
    "# calculates average of a player's rounds\n",
    "def calcAvg(r1, r2, r3, r4):\n",
    "    if r3 == \"None\":\n",
    "        if r1 == \"None\" or r2 == \"None\":\n",
    "            return 0.0\n",
    "        return (int(r1) + int(r2))/2.0\n",
    "    else:\n",
    "        return (int(r1) + int(r2) + int(r3) + int(r4))/4.0"
   ]
  },
  {
   "cell_type": "code",
   "execution_count": 4,
   "metadata": {},
   "outputs": [],
   "source": [
    "# scrapes 2014-2018 golf rankings\n",
    "def getDfs(year):\n",
    "    url = formatURL(year)\n",
    "    page = urllib.request.urlopen(url)\n",
    "    soup = BeautifulSoup(page, \"lxml\")\n",
    "    div =  soup.find(\"div\", class_ = \"full_leaderboard\")\n",
    "    tables = div.find_all('table')\n",
    "    tbody = tables[0].find_all('tbody')\n",
    "\n",
    "    A = []\n",
    "    B = []\n",
    "    C = []\n",
    "    D = []\n",
    "    E = []\n",
    "    F = []\n",
    "    G = []\n",
    "    H = []\n",
    "    I = []\n",
    "    J = []\n",
    "\n",
    "    for idx,row in enumerate(tbody[0].find_all('tr')):\n",
    "            cells = row.find_all('td')\n",
    "            if len(cells) >= 11:\n",
    "                rank = cells[1].find(text=True)\n",
    "                player_name = cells[3].find('a').find(text=True)\n",
    "                overall = cells[4].find(text=True)\n",
    "                rnd = cells[6].find(text=True)\n",
    "                r1 = cells[7].find(text=True)\n",
    "                r2 = cells[8].find(text=True)\n",
    "                r3 = cells[9].find(text=True)\n",
    "                r4 = cells[10].find(text=True)\n",
    "                tot = cells[11].find(text=True)\n",
    "                avg = calcAvg(str(r1), str(r2), str(r3), str(r4))\n",
    "                A.append(rank)\n",
    "                B.append(player_name)\n",
    "                C.append(overall)\n",
    "                D.append(rnd)\n",
    "                E.append(r1)\n",
    "                F.append(r2)\n",
    "                G.append(r3)\n",
    "                H.append(r4)\n",
    "                I.append(tot)\n",
    "                J.append(avg)\n",
    "\n",
    "    df = pd.DataFrame(A, columns=['RANK'])\n",
    "    df['PLAYER']=B\n",
    "    df['OVERALL']=C\n",
    "    df['RND']=D\n",
    "    df['R1']=E\n",
    "    df['R2']=F\n",
    "    df['R3']=G\n",
    "    df['R4']=H\n",
    "    df['TOT']=I\n",
    "    df['AVG']=J\n",
    "\n",
    "    return df"
   ]
  },
  {
   "cell_type": "code",
   "execution_count": 5,
   "metadata": {},
   "outputs": [],
   "source": [
    "# get rankings only for players we are interested in\n",
    "def getRankings(players, df):\n",
    "    return df.loc[df['PLAYER'].isin(players)]"
   ]
  },
  {
   "cell_type": "code",
   "execution_count": 6,
   "metadata": {},
   "outputs": [],
   "source": [
    "# generates ranking for players based on round number\n",
    "def generateRanking(df):\n",
    "    round1_sorted = df.sort_values('R1').reset_index()\n",
    "    round2_sorted = df.sort_values('R2').reset_index()\n",
    "    round3_sorted = df.sort_values('R3').reset_index()\n",
    "    round4_sorted = df.sort_values('R4').reset_index()\n",
    "    return (round1_sorted, round2_sorted, round3_sorted, round4_sorted)"
   ]
  },
  {
   "cell_type": "code",
   "execution_count": 7,
   "metadata": {},
   "outputs": [],
   "source": [
    "# generates ranking for players based on average score of all rounds\n",
    "def generateTotalRanking(df):\n",
    "    avg_sorted = df.sort_values('AVG').reset_index()\n",
    "    return avg_sorted"
   ]
  },
  {
   "cell_type": "code",
   "execution_count": 8,
   "metadata": {},
   "outputs": [],
   "source": [
    "# extracts round scores and player ranks based on per-round score\n",
    "def getRoundScores(df, player1, player2, rounds_sorted):\n",
    "    rd1_p1 = df.loc[df['PLAYER'] == str(player1)].R1\n",
    "    rd1_p2 = df.loc[df['PLAYER'] == str(player2)].R1\n",
    "    rd2_p1 = df.loc[df['PLAYER'] == str(player1)].R2\n",
    "    rd2_p2 = df.loc[df['PLAYER'] == str(player2)].R2\n",
    "\n",
    "    rd3_p1 = df.loc[df['PLAYER'] == str(player1)].R3\n",
    "    rd3_p2 = df.loc[df['PLAYER'] == str(player2)].R3\n",
    "    rd4_p1 = df.loc[df['PLAYER'] == str(player1)].R4\n",
    "    rd4_p2 = df.loc[df['PLAYER'] == str(player2)].R4\n",
    "    \n",
    "    rd1_p1_idx = rounds_sorted[0].loc[rounds_sorted[0]['PLAYER'] == str(player1)].index[0]\n",
    "    rd1_p2_idx = rounds_sorted[0].loc[rounds_sorted[0]['PLAYER'] == str(player2)].index[0]\n",
    "    rd2_p1_idx = rounds_sorted[1].loc[rounds_sorted[1]['PLAYER'] == str(player1)].index[0]\n",
    "    rd2_p2_idx = rounds_sorted[1].loc[rounds_sorted[1]['PLAYER'] == str(player2)].index[0]\n",
    "    rd3_p1_idx = rounds_sorted[2].loc[rounds_sorted[2]['PLAYER'] == str(player1)].index[0]\n",
    "    rd3_p2_idx = rounds_sorted[2].loc[rounds_sorted[2]['PLAYER'] == str(player2)].index[0]\n",
    "    rd4_p1_idx = rounds_sorted[3].loc[rounds_sorted[3]['PLAYER'] == str(player1)].index[0]\n",
    "    rd4_p2_idx = rounds_sorted[3].loc[rounds_sorted[3]['PLAYER'] == str(player2)].index[0]\n",
    "    \n",
    "    return [(rd1_p1, rd1_p2, rd1_p1_idx, rd1_p2_idx), (rd2_p1, rd2_p2, rd2_p1_idx, rd2_p2_idx), (rd3_p1, rd3_p2, rd3_p1_idx, rd3_p2_idx), (rd4_p1, rd4_p2, rd4_p1_idx, rd4_p2_idx)]"
   ]
  },
  {
   "cell_type": "code",
   "execution_count": 9,
   "metadata": {},
   "outputs": [],
   "source": [
    "# extracts round scores and player ranks based on average score of all rounds \n",
    "def getAvgRoundScores(df, player1, player2, avg_sorted):\n",
    "    rd1_p1 = df.loc[df['PLAYER'] == str(player1)].R1\n",
    "    rd1_p2 = df.loc[df['PLAYER'] == str(player2)].R1\n",
    "    rd2_p1 = df.loc[df['PLAYER'] == str(player1)].R2\n",
    "    rd2_p2 = df.loc[df['PLAYER'] == str(player2)].R2\n",
    "\n",
    "    rd3_p1 = df.loc[df['PLAYER'] == str(player1)].R3\n",
    "    rd3_p2 = df.loc[df['PLAYER'] == str(player2)].R3\n",
    "    rd4_p1 = df.loc[df['PLAYER'] == str(player1)].R4\n",
    "    rd4_p2 = df.loc[df['PLAYER'] == str(player2)].R4\n",
    "    \n",
    "    p1_idx = avg_sorted.loc[avg_sorted['PLAYER'] == str(player1)].index[0]\n",
    "    p2_idx = avg_sorted.loc[avg_sorted['PLAYER'] == str(player2)].index[0]\n",
    "    \n",
    "    return [(rd1_p1, rd1_p2, p1_idx, p2_idx), (rd2_p1, rd2_p2, p1_idx, p2_idx), (rd3_p1, rd3_p2, p1_idx, p2_idx), (rd4_p1, rd4_p2, p1_idx, p2_idx)]"
   ]
  },
  {
   "cell_type": "code",
   "execution_count": 10,
   "metadata": {},
   "outputs": [],
   "source": [
    "#0-1 metric with option for by-year discounting\n",
    "def zero_one(votingMatrix, score_1, score_2, idx_1, idx_2, multiplier):\n",
    "    if score_1 > score_2:\n",
    "        votingMatrix[idx_1][idx_2] += 1*multiplier\n",
    "    elif score_1 < score_2:\n",
    "        votingMatrix[idx_2][idx_1] += 1*multiplier\n",
    "    else:\n",
    "        votingMatrix[idx_2][idx_1] += 0.5*multiplier\n",
    "        votingMatrix[idx_1][idx_2] += 0.5*multiplier\n",
    "    return votingMatrix"
   ]
  },
  {
   "cell_type": "code",
   "execution_count": 11,
   "metadata": {},
   "outputs": [],
   "source": [
    "#1-alpha metric with option for by-year discounting\n",
    "def one_alpha(votingMatrix, score_1, score_2, idx_1, idx_2, multiplier):\n",
    "    if score_1 > score_2:\n",
    "        votingMatrix[idx_1][idx_2] += 2*multiplier\n",
    "        votingMatrix[idx_2][idx_1] += 1*multiplier\n",
    "    elif score_1 < score_2:\n",
    "        votingMatrix[idx_2][idx_1] += 2*multiplier\n",
    "        votingMatrix[idx_1][idx_2] += 1*multiplier\n",
    "    else:\n",
    "        votingMatrix[idx_2][idx_1] += 0.5*multiplier\n",
    "        votingMatrix[idx_1][idx_2] += 0.5*multiplier\n",
    "    return votingMatrix"
   ]
  },
  {
   "cell_type": "code",
   "execution_count": 12,
   "metadata": {},
   "outputs": [],
   "source": [
    "#discount scores metric\n",
    "def discount_scores(votingMatrix, score_1, score_2, idx_1, idx_2, multiplier):\n",
    "    if score_1 > score_2:\n",
    "        votingMatrix[idx_1][idx_2] += math.exp(-1*score_1/score_2)*multiplier\n",
    "    elif score_1 < score_2:\n",
    "        votingMatrix[idx_2][idx_1] += math.exp(-1*score_2/score_1)*multiplier\n",
    "    else:\n",
    "        votingMatrix[idx_2][idx_1] += 0.5*math.exp(-1)*multiplier\n",
    "        votingMatrix[idx_1][idx_2] += 0.5*math.exp(-1)*multiplier\n",
    "    return votingMatrix"
   ]
  },
  {
   "cell_type": "code",
   "execution_count": 13,
   "metadata": {},
   "outputs": [],
   "source": [
    "#discount ranks metric\n",
    "def discount_ranks(votingMatrix, score_1, score_2, idx_1, idx_2, rank_1, rank_2, multiplier):\n",
    "    if score_1 > score_2:\n",
    "        votingMatrix[idx_1][idx_2] += math.exp(1*((rank_2+1)/(rank_1 + 1)))*multiplier\n",
    "    elif score_1 < score_2:\n",
    "        votingMatrix[idx_2][idx_1] += math.exp(1*((rank_1+1)/(rank_2 + 1)))*multiplier\n",
    "    else:\n",
    "        votingMatrix[idx_2][idx_1] += 0.5*math.exp(-1)*multiplier\n",
    "        votingMatrix[idx_1][idx_2] += 0.5*math.exp(-1)*multiplier\n",
    "    return votingMatrix"
   ]
  },
  {
   "cell_type": "code",
   "execution_count": 14,
   "metadata": {},
   "outputs": [],
   "source": [
    "# updates Voting Matrix based on by-year discounting and metric\n",
    "def updateVotingMatrix(votingMatrix, metric, score_1, score_2, idx_1, idx_2, rank_1, rank_2, multiplier):\n",
    "    if str(metric) == \"0-1\":\n",
    "        votingMatrix = zero_one(votingMatrix, score_1, score_2, idx_1, idx_2, multiplier)\n",
    "        return votingMatrix\n",
    "    elif str(metric) == \"1-alpha\":\n",
    "        votingMatrix = one_alpha(votingMatrix, score_1, score_2, idx_1, idx_2, multiplier)\n",
    "        return votingMatrix\n",
    "    elif str(metric) == \"discount-scores\":\n",
    "        votingMatrix = discount_scores(votingMatrix, score_1, score_2, idx_1, idx_2, multiplier)\n",
    "        return votingMatrix\n",
    "    elif str(metric) == \"discount-ranks\":\n",
    "        votingMatrix = discount_ranks(votingMatrix, score_1, score_2, idx_1, idx_2, rank_1, rank_2, multiplier)\n",
    "        return votingMatrix"
   ]
  },
  {
   "cell_type": "code",
   "execution_count": 15,
   "metadata": {},
   "outputs": [],
   "source": [
    "# constructs Voting Matrix with option of by-year discounting and ranking by average\n",
    "def buildVotingMatrix(players, dfs, metric, isYearDiscounted, isAvgRanked):\n",
    "    num_players = len(players)\n",
    "    votingMatrix = np.zeros(shape=(num_players, num_players))\n",
    "    for idx, df in enumerate(dfs):\n",
    "        multiplier = 1\n",
    "        if isYearDiscounted:\n",
    "            multiplier = math.exp(-(len(dfs)-1-idx))\n",
    "        if isAvgRanked:\n",
    "            avg_sorted = generateTotalRanking(df)\n",
    "        else:\n",
    "            rounds_sorted = generateRanking(df)\n",
    "        for i in range(num_players):\n",
    "            for j in range(i, num_players):\n",
    "                if isAvgRanked:\n",
    "                    tups = getAvgRoundScores(df, players[i], players[j], avg_sorted)\n",
    "                else:\n",
    "                    tups = getRoundScores(df, players[i], players[j], rounds_sorted)\n",
    "                for tup in tups:\n",
    "                    tup0_isnull = tup[0].isnull().iloc[0]\n",
    "                    tup1_isnull = tup[1].isnull().iloc[0]\n",
    "                    if not tup0_isnull:\n",
    "                        if not tup1_isnull:\n",
    "                            score_1, score_2, rank_1, rank_2 = tup\n",
    "                            idx_1, idx_2 = i, j\n",
    "                            votingMatrix = updateVotingMatrix(votingMatrix, metric, int(score_1), int(score_2), idx_1, idx_2, rank_1, rank_2, multiplier)\n",
    "    return votingMatrix"
   ]
  },
  {
   "cell_type": "code",
   "execution_count": 16,
   "metadata": {},
   "outputs": [],
   "source": [
    "# builds Transition Probability Matrix\n",
    "def buildTransitionMatrix(votingMatrix):\n",
    "    rows, cols = votingMatrix.shape\n",
    "    P = np.zeros(shape=(rows,cols))\n",
    "    for i in range(rows):\n",
    "        rowsum = np.sum(votingMatrix[i, :])\n",
    "        for j in range(cols):\n",
    "            P[i,j] = votingMatrix[i,j] / rowsum\n",
    "\n",
    "    return P"
   ]
  },
  {
   "cell_type": "code",
   "execution_count": 17,
   "metadata": {},
   "outputs": [],
   "source": [
    "# calculates Null Space\n",
    "def nullspace(A, atol=1e-13, rtol=0):\n",
    "    A = np.atleast_2d(A)\n",
    "    u, s, vh = svd(A)\n",
    "    tol = max(atol, rtol * s[0])\n",
    "    nnz = (s >= tol).sum()\n",
    "    ns = vh[nnz:].conj().T\n",
    "    return ns"
   ]
  },
  {
   "cell_type": "code",
   "execution_count": 18,
   "metadata": {},
   "outputs": [],
   "source": [
    "# calculates ranking based on Transition Probability Matrix\n",
    "def calcScores(P):\n",
    "    rows, cols = P.shape\n",
    "    A = P.transpose() - np.identity(rows)\n",
    "    return nullspace(A)"
   ]
  },
  {
   "cell_type": "code",
   "execution_count": 19,
   "metadata": {},
   "outputs": [],
   "source": [
    "# retrieves corresponding player name from ranking\n",
    "def rankPlayers(scores, players):\n",
    "    idxs = list(range(len(players)))\n",
    "    list_scores = list(scores)\n",
    "    sorted_idxs = [x for _,x in sorted(zip(list_scores,idxs))]\n",
    "    sorted_players = [players[i] for i in sorted_idxs]\n",
    "    return sorted_players"
   ]
  },
  {
   "cell_type": "code",
   "execution_count": 20,
   "metadata": {},
   "outputs": [],
   "source": [
    "# combines previous methods; builds Voting Matrix, Transition Probability Matrix, and gets player names\n",
    "def computeRanks(players, dfs, metric, discountYear=False , avgRanked=False):\n",
    "    votingMatrix = buildVotingMatrix(players, dfs, str(metric), discountYear, avgRanked)\n",
    "    P = buildTransitionMatrix(votingMatrix)\n",
    "    scores = calcScores(P)\n",
    "    ranked_players = rankPlayers(scores, players)\n",
    "    return ranked_players"
   ]
  },
  {
   "cell_type": "code",
   "execution_count": 21,
   "metadata": {},
   "outputs": [],
   "source": [
    "# scrapes official (Y-T-D) golf rankings\n",
    "def getAllOfficial(year):\n",
    "    url = \"https://www.pgatour.com/stats/stat.186.\" + str(year) + \".html\"\n",
    "    page = urllib.request.urlopen(url)\n",
    "    soup = BeautifulSoup(page, \"lxml\")\n",
    "    div =  soup.find(\"div\", class_ = \"details-table-wrap\")\n",
    "    tables = div.find_all('table')\n",
    "    \n",
    "    A = []\n",
    "    B = []\n",
    "    C = []\n",
    "    \n",
    "    for idx,row in enumerate(tables[0].find_all('tr')):\n",
    "            cells = row.find_all('td')\n",
    "            if len(cells) > 0:\n",
    "                this_week = str(cells[0].find(text=True)).strip('\\n')\n",
    "                last_week = str(cells[1].find(text=True)).strip('\\n')\n",
    "                player_name = str(cells[2].find('a').find(text=True)).strip('\\n')\n",
    "                \n",
    "                A.append(this_week)\n",
    "                B.append(last_week)\n",
    "                C.append(player_name)\n",
    "\n",
    "    df = pd.DataFrame(A, columns=['THIS WEEK'])\n",
    "    df['PLAYER']=C\n",
    "    df['LAST WEEK']=B\n",
    "\n",
    "    return df"
   ]
  },
  {
   "cell_type": "code",
   "execution_count": 22,
   "metadata": {},
   "outputs": [],
   "source": [
    "# formats player name to [first name] [last name]\n",
    "def nameFormat(name):\n",
    "    arr_name = name.replace(',', '').split()\n",
    "    return str(arr_name[1] + \" \" + arr_name[0])"
   ]
  },
  {
   "cell_type": "code",
   "execution_count": 23,
   "metadata": {},
   "outputs": [],
   "source": [
    "# formats player name to [last name], [first name]\n",
    "def reverseNameFormat(name):\n",
    "    arr_name = name.split()\n",
    "    return str(arr_name[1] + \", \" + arr_name[0] + \" \")"
   ]
  },
  {
   "cell_type": "code",
   "execution_count": 24,
   "metadata": {},
   "outputs": [],
   "source": [
    "# gets only players we are interested in from Official Rankings\n",
    "def getOfficial(year, players):\n",
    "    df = getAllOfficial(year)\n",
    "    players_formatted = map(nameFormat, players)\n",
    "    return df.loc[df['PLAYER'].isin(players_formatted)]"
   ]
  },
  {
   "cell_type": "code",
   "execution_count": 25,
   "metadata": {},
   "outputs": [],
   "source": [
    "# calculates Mean-Squared-Error between the Official Rankings and our generated Rankings\n",
    "def mse(official, calculated):\n",
    "    df = pd.DataFrame(official, columns=['OFFICIAL'])\n",
    "    df['CALCULATED'] = calculated\n",
    "    df = df.reset_index()\n",
    "    s = 0\n",
    "    count = 0\n",
    "    for i in range(len(official)):\n",
    "        if official[i] != None:\n",
    "            s += (i - df.loc[df['CALCULATED'] == str(official[i])].index[0])**2\n",
    "            count += 1\n",
    "    return s / count"
   ]
  },
  {
   "cell_type": "code",
   "execution_count": 26,
   "metadata": {},
   "outputs": [],
   "source": [
    "# prints Rankings in a Dataframe \n",
    "def printDataFrame(rankings, name):\n",
    "    columns = np.array([str(name)]).transpose()\n",
    "    return pd.DataFrame(rankings, columns=columns)"
   ]
  },
  {
   "cell_type": "code",
   "execution_count": 27,
   "metadata": {},
   "outputs": [],
   "source": [
    "# removes players that are not listed in official rankings\n",
    "def createOfficialPlayersList(players, official):\n",
    "    formatted_players = list(map(nameFormat, players))\n",
    "    toReturn = []\n",
    "    for i in range(len(formatted_players)):\n",
    "        if len(official.loc[official['PLAYER'] == str(formatted_players[i])]):\n",
    "            toReturn.append(formatted_players[i])\n",
    "    return toReturn"
   ]
  },
  {
   "cell_type": "code",
   "execution_count": 28,
   "metadata": {},
   "outputs": [],
   "source": [
    "# gets formatted rankings\n",
    "def getFormattedRankings(players, all_rankings, metric, isYearDiscount):\n",
    "    return list(map(nameFormat, computeRanks(players, all_rankings, str(metric), discountYear=isYearDiscount)))"
   ]
  },
  {
   "cell_type": "code",
   "execution_count": 29,
   "metadata": {},
   "outputs": [],
   "source": [
    "# prints MSE \n",
    "def printMSE(metric, players, all_rankings, official, isYTD):\n",
    "    if not isYTD and str(metric) == \"discount-ranks\":\n",
    "        player_rankings = getFormattedRankings(players, all_rankings, metric, True)\n",
    "    else:\n",
    "        player_rankings = getFormattedRankings(players, all_rankings, metric, False)\n",
    "    if isYTD and (str(metric) == \"1-alpha\" or str(metric) == \"discount-scores\"):\n",
    "        # has to do with how Null Space is computed\n",
    "        player_rankings.reverse()\n",
    "    if isYTD:\n",
    "        return \"MSE for \" + str(metric) + \" with YTD rankings: \" + str(mse(official, player_rankings)), player_rankings\n",
    "    else:\n",
    "        return \"MSE for \" + str(metric) + \" with 2018 rankings: \" + str(mse(official, player_rankings)), player_rankings"
   ]
  },
  {
   "cell_type": "code",
   "execution_count": 30,
   "metadata": {},
   "outputs": [],
   "source": [
    "# scores for the past 5 years\n",
    "scores_2014 = getDfs(2014)\n",
    "scores_2015 = getDfs(2015)\n",
    "scores_2016 = getDfs(2016)\n",
    "scores_2017 = getDfs(2017)\n",
    "scores_2018 = getDfs(2018)"
   ]
  },
  {
   "cell_type": "code",
   "execution_count": 31,
   "metadata": {},
   "outputs": [],
   "source": [
    "# intersects player lists from different years\n",
    "intersect_2014_2015_2016 = np.intersect1d(scores_2014.PLAYER, np.intersect1d(scores_2015.PLAYER, scores_2016.PLAYER))\n",
    "intersect_2017_2018 = np.intersect1d(scores_2017.PLAYER, scores_2018.PLAYER)\n",
    "players = np.intersect1d(intersect_2014_2015_2016, intersect_2017_2018)\n",
    "\n",
    "# compared this to (YTD Official World Golf Ranking)\n",
    "official_2018 = getOfficial(2018, players)\n",
    "\n",
    "official_players = createOfficialPlayersList(players, official_2018)\n",
    "official_players2 = list(map(reverseNameFormat, official_players))\n",
    "\n",
    "rankings_2014 = getRankings(players, scores_2014).reset_index()\n",
    "rankings_2015 = getRankings(players, scores_2015).reset_index()\n",
    "rankings_2016 = getRankings(players, scores_2016).reset_index()\n",
    "rankings_2017 = getRankings(players, scores_2017).reset_index()\n",
    "rankings_2018 = getRankings(players, scores_2018).reset_index()\n",
    "\n",
    "rankings_2014_official = getRankings(official_players2, scores_2014).reset_index()\n",
    "rankings_2015_official = getRankings(official_players2, scores_2015).reset_index()\n",
    "rankings_2016_official = getRankings(official_players2, scores_2016).reset_index()\n",
    "rankings_2017_official = getRankings(official_players2, scores_2017).reset_index()\n",
    "rankings_2018_official = getRankings(official_players2, scores_2018).reset_index()\n",
    "\n",
    "all_rankings = [rankings_2014, rankings_2015, rankings_2016, rankings_2017, rankings_2018]\n",
    "all_rankings_official = [rankings_2014_official, rankings_2015_official, rankings_2016_official, rankings_2017_official, rankings_2018_official]"
   ]
  },
  {
   "cell_type": "code",
   "execution_count": 32,
   "metadata": {},
   "outputs": [
    {
     "name": "stdout",
     "output_type": "stream",
     "text": [
      "MSE for 0-1 with YTD rankings: 20.8695652174\n",
      "MSE for 0-1 with 2018 rankings: 30.0\n"
     ]
    }
   ],
   "source": [
    "# 0-1 Metric\n",
    "\n",
    "zero_one_ytd, rankings_01_ytd = printMSE(\"0-1\", official_players2, all_rankings_official, list(official_2018['PLAYER']), True)\n",
    "zero_one_2018, rankings_01_2018 = printMSE(\"0-1\", players, all_rankings, list(map(nameFormat, list(rankings_2018[\"PLAYER\"]))), False)\n",
    "\n",
    "print(zero_one_ytd)\n",
    "print(zero_one_2018)\n",
    "df_01_ytd = printDataFrame(rankings_01_ytd, \"0-1 vs. Official\")\n",
    "df_01_2018 = printDataFrame(rankings_01_2018, \"0-1 vs. 2018\")"
   ]
  },
  {
   "cell_type": "code",
   "execution_count": 33,
   "metadata": {},
   "outputs": [
    {
     "name": "stdout",
     "output_type": "stream",
     "text": [
      "MSE for 1-alpha with YTD rankings: 32.0869565217\n",
      "MSE for 1-alpha with 2018 rankings: 38.0\n"
     ]
    }
   ],
   "source": [
    "# 1-alpha Metric\n",
    "\n",
    "one_alpha_ytd, rankings_1alpha_ytd = printMSE(\"1-alpha\", official_players2, all_rankings_official, list(official_2018['PLAYER']), True)\n",
    "one_alpha_2018, rankings_1alpha_2018 = printMSE(\"1-alpha\", players, all_rankings, list(map(nameFormat, list(rankings_2018[\"PLAYER\"]))), False)\n",
    "\n",
    "print(one_alpha_ytd)\n",
    "print(one_alpha_2018)\n",
    "df_1alpha_ytd = printDataFrame(rankings_1alpha_ytd, \"1-alpha vs. Official\")\n",
    "df_1alpha_2018 = printDataFrame(rankings_1alpha_2018, \"1-alpha vs. 2018\")"
   ]
  },
  {
   "cell_type": "code",
   "execution_count": 34,
   "metadata": {},
   "outputs": [
    {
     "name": "stdout",
     "output_type": "stream",
     "text": [
      "MSE for discount-scores with YTD rankings: 20.6086956522\n",
      "MSE for discount-scores with 2018 rankings: 30.0\n"
     ]
    }
   ],
   "source": [
    "# discount scores Metric\n",
    "\n",
    "discount_scores_ytd, rankings_discount_scores_ytd = printMSE(\"discount-scores\", official_players2, all_rankings_official, list(official_2018['PLAYER']), True)\n",
    "discount_scores_2018, rankings_discount_scores_2018 = printMSE(\"discount-scores\", players, all_rankings, list(map(nameFormat, list(rankings_2018[\"PLAYER\"]))), False)\n",
    "\n",
    "print(discount_scores_ytd)\n",
    "print(discount_scores_2018)\n",
    "df_discount_scores_ytd = printDataFrame(rankings_discount_scores_ytd, \"discount-scores vs. Official\")\n",
    "df_discount_scores_2018 = printDataFrame(rankings_discount_scores_2018, \"discount-scores vs. 2018\")"
   ]
  },
  {
   "cell_type": "code",
   "execution_count": 35,
   "metadata": {},
   "outputs": [
    {
     "name": "stdout",
     "output_type": "stream",
     "text": [
      "MSE for discount-ranks with YTD rankings: 25.4782608696\n",
      "MSE for discount-ranks with 2018 rankings: 10.4516129032\n"
     ]
    }
   ],
   "source": [
    "# discount ranks Metric\n",
    "\n",
    "discount_ranks_ytd, rankings_discount_ranks_ytd = printMSE(\"discount-ranks\", official_players2, all_rankings_official, list(official_2018['PLAYER']), True)\n",
    "discount_ranks_2018, rankings_discount_ranks_2018 = printMSE(\"discount-ranks\", players, all_rankings, list(map(nameFormat, list(rankings_2018[\"PLAYER\"]))), False)\n",
    "\n",
    "print(discount_ranks_ytd)\n",
    "print(discount_ranks_2018)\n",
    "df_discount_ranks_ytd = printDataFrame(rankings_discount_ranks_ytd, \"discount-ranks vs. Official\")\n",
    "df_discount_ranks_2018 = printDataFrame(rankings_discount_ranks_2018, \"discount-ranks vs. 2018\")"
   ]
  },
  {
   "cell_type": "code",
   "execution_count": null,
   "metadata": {},
   "outputs": [],
   "source": []
  }
 ],
 "metadata": {
  "kernelspec": {
   "display_name": "Python 3",
   "language": "python",
   "name": "python3"
  },
  "language_info": {
   "codemirror_mode": {
    "name": "ipython",
    "version": 3
   },
   "file_extension": ".py",
   "mimetype": "text/x-python",
   "name": "python",
   "nbconvert_exporter": "python",
   "pygments_lexer": "ipython3",
   "version": "3.5.4"
  }
 },
 "nbformat": 4,
 "nbformat_minor": 2
}
