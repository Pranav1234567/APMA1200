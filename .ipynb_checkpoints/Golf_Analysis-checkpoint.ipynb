{
 "cells": [
  {
   "cell_type": "code",
   "execution_count": 1,
   "metadata": {},
   "outputs": [],
   "source": [
    "import urllib.request\n",
    "import bs4\n",
    "from bs4 import BeautifulSoup\n",
    "import pandas as pd\n",
    "import datetime\n",
    "import numpy as np\n",
    "from numpy.linalg import svd\n",
    "import math"
   ]
  },
  {
   "cell_type": "code",
   "execution_count": 2,
   "metadata": {},
   "outputs": [],
   "source": [
    "# probably due to website update\n",
    "def formatURL(year):\n",
    "    url = \"\"\n",
    "    if(year < 2017):\n",
    "        url = \"https://www.golfchannel.com/tours/masters/\" + str(year) + \"/masters/\"\n",
    "    else:\n",
    "        url = \"https://www.golfchannel.com/tours/pga-tour/\" + str(year) + \"/masters-tournament/\"\n",
    "    return url"
   ]
  },
  {
   "cell_type": "code",
   "execution_count": 3,
   "metadata": {},
   "outputs": [],
   "source": [
    "def calcAvg(r1, r2, r3, r4):\n",
    "    if r3 == \"None\":\n",
    "        if r1 == \"None\" or r2 == \"None\":\n",
    "            print('here')\n",
    "            return 0.0\n",
    "        return (int(r1) + int(r2))/2.0\n",
    "    else:\n",
    "        return (int(r1) + int(r2) + int(r3) + int(r4))/4.0"
   ]
  },
  {
   "cell_type": "code",
   "execution_count": 4,
   "metadata": {},
   "outputs": [],
   "source": [
    "def getDfs(year):\n",
    "    url = formatURL(year)\n",
    "    page = urllib.request.urlopen(url)\n",
    "    soup = BeautifulSoup(page, \"lxml\")\n",
    "    div =  soup.find(\"div\", class_ = \"full_leaderboard\")\n",
    "    tables = div.find_all('table')\n",
    "    tbody = tables[0].find_all('tbody')\n",
    "\n",
    "    A = []\n",
    "    B = []\n",
    "    C = []\n",
    "    D = []\n",
    "    E = []\n",
    "    F = []\n",
    "    G = []\n",
    "    H = []\n",
    "    I = []\n",
    "    J = []\n",
    "\n",
    "    for idx,row in enumerate(tbody[0].find_all('tr')):\n",
    "            cells = row.find_all('td')\n",
    "            if len(cells) >= 11:\n",
    "                rank = cells[1].find(text=True)\n",
    "                player_name = cells[3].find('a').find(text=True)\n",
    "                overall = cells[4].find(text=True)\n",
    "                rnd = cells[6].find(text=True)\n",
    "                r1 = cells[7].find(text=True)\n",
    "                r2 = cells[8].find(text=True)\n",
    "                r3 = cells[9].find(text=True)\n",
    "                r4 = cells[10].find(text=True)\n",
    "                tot = cells[11].find(text=True)\n",
    "                avg = calcAvg(str(r1), str(r2), str(r3), str(r4))\n",
    "                A.append(rank)\n",
    "                B.append(player_name)\n",
    "                C.append(overall)\n",
    "                D.append(rnd)\n",
    "                E.append(r1)\n",
    "                F.append(r2)\n",
    "                G.append(r3)\n",
    "                H.append(r4)\n",
    "                I.append(tot)\n",
    "                J.append(avg)\n",
    "\n",
    "    df = pd.DataFrame(A, columns=['RANK'])\n",
    "    df['PLAYER']=B\n",
    "    df['OVERALL']=C\n",
    "    df['RND']=D\n",
    "    df['R1']=E\n",
    "    df['R2']=F\n",
    "    df['R3']=G\n",
    "    df['R4']=H\n",
    "    df['TOT']=I\n",
    "    df['AVG']=J\n",
    "\n",
    "    return df"
   ]
  },
  {
   "cell_type": "code",
   "execution_count": 5,
   "metadata": {},
   "outputs": [],
   "source": [
    "#players - array of player names\n",
    "#df - df containing all score data\n",
    "def getRankings(players, df):\n",
    "#     print(df.sort_values('R1').R1)\n",
    "    return df.loc[df['PLAYER'].isin(players)]"
   ]
  },
  {
   "cell_type": "code",
   "execution_count": 6,
   "metadata": {},
   "outputs": [],
   "source": [
    "def generateRanking(df):\n",
    "    round1_sorted = df.sort_values('R1').reset_index()\n",
    "    round2_sorted = df.sort_values('R2').reset_index()\n",
    "    round3_sorted = df.sort_values('R3').reset_index()\n",
    "    round4_sorted = df.sort_values('R4').reset_index()\n",
    "    return (round1_sorted, round2_sorted, round3_sorted, round4_sorted)"
   ]
  },
  {
   "cell_type": "code",
   "execution_count": 7,
   "metadata": {},
   "outputs": [],
   "source": [
    "def generateTotalRanking(df):\n",
    "    avg_sorted = df.sort_values('AVG').reset_index()\n",
    "    return avg_sorted"
   ]
  },
  {
   "cell_type": "code",
   "execution_count": 8,
   "metadata": {},
   "outputs": [],
   "source": [
    "def getRoundScores(df, player1, player2, rounds_sorted):\n",
    "    rd1_p1 = df.loc[df['PLAYER'] == str(player1)].R1\n",
    "    rd1_p2 = df.loc[df['PLAYER'] == str(player2)].R1\n",
    "    rd2_p1 = df.loc[df['PLAYER'] == str(player1)].R2\n",
    "    rd2_p2 = df.loc[df['PLAYER'] == str(player2)].R2\n",
    "\n",
    "    rd3_p1 = df.loc[df['PLAYER'] == str(player1)].R3\n",
    "    rd3_p2 = df.loc[df['PLAYER'] == str(player2)].R3\n",
    "    rd4_p1 = df.loc[df['PLAYER'] == str(player1)].R4\n",
    "    rd4_p2 = df.loc[df['PLAYER'] == str(player2)].R4\n",
    "    \n",
    "    rd1_p1_idx = rounds_sorted[0].loc[rounds_sorted[0]['PLAYER'] == str(player1)].index[0]\n",
    "    rd1_p2_idx = rounds_sorted[0].loc[rounds_sorted[0]['PLAYER'] == str(player2)].index[0]\n",
    "    rd2_p1_idx = rounds_sorted[1].loc[rounds_sorted[1]['PLAYER'] == str(player1)].index[0]\n",
    "    rd2_p2_idx = rounds_sorted[1].loc[rounds_sorted[1]['PLAYER'] == str(player2)].index[0]\n",
    "    rd3_p1_idx = rounds_sorted[2].loc[rounds_sorted[2]['PLAYER'] == str(player1)].index[0]\n",
    "    rd3_p2_idx = rounds_sorted[2].loc[rounds_sorted[2]['PLAYER'] == str(player2)].index[0]\n",
    "    rd4_p1_idx = rounds_sorted[3].loc[rounds_sorted[3]['PLAYER'] == str(player1)].index[0]\n",
    "    rd4_p2_idx = rounds_sorted[3].loc[rounds_sorted[3]['PLAYER'] == str(player2)].index[0]\n",
    "    \n",
    "    return [(rd1_p1, rd1_p2, rd1_p1_idx, rd1_p2_idx), (rd2_p1, rd2_p2, rd2_p1_idx, rd2_p2_idx), (rd3_p1, rd3_p2, rd3_p1_idx, rd3_p2_idx), (rd4_p1, rd4_p2, rd4_p1_idx, rd4_p2_idx)]"
   ]
  },
  {
   "cell_type": "code",
   "execution_count": 9,
   "metadata": {},
   "outputs": [],
   "source": [
    "def getAvgRoundScores(df, player1, player2, avg_sorted):\n",
    "    rd1_p1 = df.loc[df['PLAYER'] == str(player1)].R1\n",
    "    rd1_p2 = df.loc[df['PLAYER'] == str(player2)].R1\n",
    "    rd2_p1 = df.loc[df['PLAYER'] == str(player1)].R2\n",
    "    rd2_p2 = df.loc[df['PLAYER'] == str(player2)].R2\n",
    "\n",
    "    rd3_p1 = df.loc[df['PLAYER'] == str(player1)].R3\n",
    "    rd3_p2 = df.loc[df['PLAYER'] == str(player2)].R3\n",
    "    rd4_p1 = df.loc[df['PLAYER'] == str(player1)].R4\n",
    "    rd4_p2 = df.loc[df['PLAYER'] == str(player2)].R4\n",
    "    \n",
    "    p1_idx = avg_sorted.loc[avg_sorted['PLAYER'] == str(player1)].index[0]\n",
    "    p2_idx = avg_sorted.loc[avg_sorted['PLAYER'] == str(player2)].index[0]\n",
    "    \n",
    "    return [(rd1_p1, rd1_p2, p1_idx, p2_idx), (rd2_p1, rd2_p2, p1_idx, p2_idx), (rd3_p1, rd3_p2, p1_idx, p2_idx), (rd4_p1, rd4_p2, p1_idx, p2_idx)]"
   ]
  },
  {
   "cell_type": "code",
   "execution_count": 10,
   "metadata": {},
   "outputs": [],
   "source": [
    "#updates votingMatrix based on 0-1\n",
    "def zero_one(votingMatrix, score_1, score_2, idx_1, idx_2, multiplier):\n",
    "    if score_1 > score_2:\n",
    "        votingMatrix[idx_1][idx_2] += 1*multiplier\n",
    "    elif score_1 < score_2:\n",
    "        votingMatrix[idx_2][idx_1] += 1*multiplier\n",
    "    else:\n",
    "        votingMatrix[idx_2][idx_1] += 0.5*multiplier\n",
    "        votingMatrix[idx_1][idx_2] += 0.5*multiplier\n",
    "    return votingMatrix"
   ]
  },
  {
   "cell_type": "code",
   "execution_count": 11,
   "metadata": {},
   "outputs": [],
   "source": [
    "#updates votingMatrix based on 1-alpha\n",
    "def one_alpha(votingMatrix, score_1, score_2, idx_1, idx_2, multiplier):\n",
    "    if score_1 > score_2:\n",
    "        votingMatrix[idx_1][idx_2] += 1.1*multiplier\n",
    "        votingMatrix[idx_2][idx_1] += 1*multiplier\n",
    "    elif score_1 < score_2:\n",
    "        votingMatrix[idx_2][idx_1] += 1.1*multiplier\n",
    "        votingMatrix[idx_1][idx_2] += 1*multiplier\n",
    "    else:\n",
    "        votingMatrix[idx_2][idx_1] += 0.5*multiplier\n",
    "        votingMatrix[idx_1][idx_2] += 0.5*multiplier\n",
    "    return votingMatrix"
   ]
  },
  {
   "cell_type": "code",
   "execution_count": 12,
   "metadata": {},
   "outputs": [],
   "source": [
    "#updates votingMatrix based on discount scores\n",
    "def discount_scores(votingMatrix, score_1, score_2, idx_1, idx_2, multiplier):\n",
    "    if score_1 > score_2:\n",
    "        votingMatrix[idx_1][idx_2] += math.exp(-1*score_1/score_2)*multiplier\n",
    "    elif score_1 < score_2:\n",
    "        votingMatrix[idx_2][idx_1] += math.exp(-1*score_2/score_1)*multiplier\n",
    "    else:\n",
    "        votingMatrix[idx_2][idx_1] += 0.5*math.exp(-1)*multiplier\n",
    "        votingMatrix[idx_1][idx_2] += 0.5*math.exp(-1)*multiplier\n",
    "    return votingMatrix"
   ]
  },
  {
   "cell_type": "code",
   "execution_count": 13,
   "metadata": {},
   "outputs": [],
   "source": [
    "#updates votingMatrix based on discount ranks\n",
    "def discount_ranks(votingMatrix, score_1, score_2, idx_1, idx_2, rank_1, rank_2, multiplier):\n",
    "    if score_1 > score_2:\n",
    "        votingMatrix[idx_1][idx_2] += math.exp(1*((rank_2+1)/(rank_1 + 1)))*multiplier\n",
    "    elif score_1 < score_2:\n",
    "        votingMatrix[idx_2][idx_1] += math.exp(1*((rank_1+1)/(rank_2 + 1)))*multiplier\n",
    "    else:\n",
    "        votingMatrix[idx_2][idx_1] += 0.5*math.exp(-1)*multiplier\n",
    "        votingMatrix[idx_1][idx_2] += 0.5*math.exp(-1)*multiplier\n",
    "    return votingMatrix"
   ]
  },
  {
   "cell_type": "code",
   "execution_count": 14,
   "metadata": {},
   "outputs": [],
   "source": [
    "def updateVotingMatrix(votingMatrix, metric, score_1, score_2, idx_1, idx_2, rank_1, rank_2, multiplier):\n",
    "    if str(metric) == \"0-1\":\n",
    "        votingMatrix = zero_one(votingMatrix, score_1, score_2, idx_1, idx_2, multiplier)\n",
    "        return votingMatrix\n",
    "    elif str(metric) == \"1-alpha\":\n",
    "        votingMatrix = one_alpha(votingMatrix, score_1, score_2, idx_1, idx_2, multiplier)\n",
    "        return votingMatrix\n",
    "    elif str(metric) == \"discount_scores\":\n",
    "        votingMatrix = discount_scores(votingMatrix, score_1, score_2, idx_1, idx_2, multiplier)\n",
    "        return votingMatrix\n",
    "    elif str(metric) == \"discount_ranks\":\n",
    "        votingMatrix = discount_ranks(votingMatrix, score_1, score_2, idx_1, idx_2, rank_1, rank_2, multiplier)\n",
    "        return votingMatrix"
   ]
  },
  {
   "cell_type": "code",
   "execution_count": 15,
   "metadata": {},
   "outputs": [],
   "source": [
    "def buildVotingMatrix(players, dfs, metric, isYearDiscounted, isAvgRanked):\n",
    "    num_players = len(players)\n",
    "    votingMatrix = np.zeros(shape=(num_players, num_players))\n",
    "    for idx, df in enumerate(dfs):\n",
    "        multiplier = 1\n",
    "        if isYearDiscounted:\n",
    "            multiplier = math.exp(-(len(dfs)-1-idx))\n",
    "        if isAvgRanked:\n",
    "            avg_sorted = generateTotalRanking(df)\n",
    "        else:\n",
    "            rounds_sorted = generateRanking(df)\n",
    "        for i in range(num_players):\n",
    "            for j in range(i, num_players):\n",
    "                if isAvgRanked:\n",
    "                    tups = getAvgRoundScores(df, players[i], players[j], avg_sorted)\n",
    "                else:\n",
    "                    tups = getRoundScores(df, players[i], players[j], rounds_sorted)\n",
    "                for tup in tups:\n",
    "                    tup0_isnull = tup[0].isnull().iloc[0]\n",
    "                    tup1_isnull = tup[1].isnull().iloc[0]\n",
    "                    if not tup0_isnull:\n",
    "                        if not tup1_isnull:\n",
    "                            score_1, score_2, rank_1, rank_2 = tup\n",
    "                            idx_1, idx_2 = i, j\n",
    "                            votingMatrix = updateVotingMatrix(votingMatrix, metric, int(score_1), int(score_2), idx_1, idx_2, rank_1, rank_2, multiplier)\n",
    "                        else:\n",
    "                            pass\n",
    "                    elif not tup1_isnull:\n",
    "                        pass\n",
    "    return votingMatrix"
   ]
  },
  {
   "cell_type": "code",
   "execution_count": 16,
   "metadata": {},
   "outputs": [],
   "source": [
    "def buildTransitionMatrix(votingMatrix):\n",
    "    rows, cols = votingMatrix.shape\n",
    "    P = np.zeros(shape=(rows,cols))\n",
    "    for i in range(rows):\n",
    "        rowsum = np.sum(votingMatrix[i, :])\n",
    "        for j in range(cols):\n",
    "            P[i,j] = votingMatrix[i,j] / rowsum\n",
    "\n",
    "    return P"
   ]
  },
  {
   "cell_type": "code",
   "execution_count": 17,
   "metadata": {},
   "outputs": [],
   "source": [
    "# borrowed from Michael\n",
    "def nullspace(A, atol=1e-13, rtol=0):\n",
    "    A = np.atleast_2d(A)\n",
    "    u, s, vh = svd(A)\n",
    "    tol = max(atol, rtol * s[0])\n",
    "    nnz = (s >= tol).sum()\n",
    "    ns = vh[nnz:].conj().T\n",
    "    return ns"
   ]
  },
  {
   "cell_type": "code",
   "execution_count": 18,
   "metadata": {},
   "outputs": [],
   "source": [
    "def calcScores(P):\n",
    "    rows, cols = P.shape\n",
    "    A = P.transpose() - np.identity(rows)\n",
    "    return nullspace(A)"
   ]
  },
  {
   "cell_type": "code",
   "execution_count": 19,
   "metadata": {},
   "outputs": [],
   "source": [
    "def rankPlayers(scores, players):\n",
    "    idxs = list(range(len(players)))\n",
    "    list_scores = list(scores)\n",
    "    sorted_idxs = [x for _,x in sorted(zip(list_scores,idxs))]\n",
    "    sorted_players = [players[i] for i in sorted_idxs]\n",
    "    return sorted_players"
   ]
  },
  {
   "cell_type": "code",
   "execution_count": 20,
   "metadata": {},
   "outputs": [],
   "source": [
    "def computeRanks(players, dfs, metric, discountYear=False , avgRanked=False):\n",
    "    votingMatrix = buildVotingMatrix(players, dfs, str(metric), discountYear, avgRanked)\n",
    "    P = buildTransitionMatrix(votingMatrix)\n",
    "    scores = calcScores(P)\n",
    "    ranked_players = rankPlayers(scores, players)\n",
    "    return ranked_players"
   ]
  },
  {
   "cell_type": "code",
   "execution_count": 21,
   "metadata": {},
   "outputs": [],
   "source": [
    "def getAllOfficial(year):\n",
    "    url = \"https://www.pgatour.com/stats/stat.186.\" + str(year) + \".html\"\n",
    "    page = urllib.request.urlopen(url)\n",
    "    soup = BeautifulSoup(page, \"lxml\")\n",
    "    div =  soup.find(\"div\", class_ = \"details-table-wrap\")\n",
    "    tables = div.find_all('table')\n",
    "    \n",
    "    A = []\n",
    "    B = []\n",
    "    C = []\n",
    "    \n",
    "    for idx,row in enumerate(tables[0].find_all('tr')):\n",
    "            cells = row.find_all('td')\n",
    "            if len(cells) > 0:\n",
    "                this_week = str(cells[0].find(text=True)).strip('\\n')\n",
    "                last_week = str(cells[1].find(text=True)).strip('\\n')\n",
    "                player_name = str(cells[2].find('a').find(text=True)).strip('\\n')\n",
    "                \n",
    "                A.append(this_week)\n",
    "                B.append(last_week)\n",
    "                C.append(player_name)\n",
    "\n",
    "    df = pd.DataFrame(A, columns=['THIS WEEK'])\n",
    "    df['PLAYER']=C\n",
    "    df['LAST WEEK']=B\n",
    "\n",
    "    return df"
   ]
  },
  {
   "cell_type": "code",
   "execution_count": 22,
   "metadata": {},
   "outputs": [],
   "source": [
    "def nameFormat(name):\n",
    "    arr_name = name.replace(',', '').split()\n",
    "    return str(arr_name[1] + \" \" + arr_name[0])"
   ]
  },
  {
   "cell_type": "code",
   "execution_count": 23,
   "metadata": {},
   "outputs": [],
   "source": [
    "def getOfficial(year, players):\n",
    "    df = getAllOfficial(year)\n",
    "    players_formatted = map(nameFormat, players)\n",
    "    return df.loc[df['PLAYER'].isin(players_formatted)]"
   ]
  },
  {
   "cell_type": "code",
   "execution_count": 24,
   "metadata": {},
   "outputs": [],
   "source": [
    "def mse(official, calculated):\n",
    "    df = pd.DataFrame(official, columns=['OFFICIAL'])\n",
    "    df['CALCULATED'] = calculated\n",
    "    df = df.reset_index()\n",
    "    s = 0\n",
    "    count = 0\n",
    "    for i in range(len(official)):\n",
    "        if official[i][0] != None:\n",
    "            s += (i - df.loc[df['CALCULATED'] == str(official[i][0])].index[0])**2\n",
    "            count += 1\n",
    "    return s / count"
   ]
  },
  {
   "cell_type": "code",
   "execution_count": 25,
   "metadata": {},
   "outputs": [
    {
     "name": "stdout",
     "output_type": "stream",
     "text": [
      "here\n"
     ]
    }
   ],
   "source": [
    "# scores for the past 5 years\n",
    "scores_2014 = getDfs(2014)\n",
    "scores_2015 = getDfs(2015)\n",
    "scores_2016 = getDfs(2016)\n",
    "scores_2017 = getDfs(2017)\n",
    "scores_2018 = getDfs(2018)"
   ]
  },
  {
   "cell_type": "code",
   "execution_count": 26,
   "metadata": {},
   "outputs": [],
   "source": [
    "# gets only players we are interested in \n",
    "intersect_2014_2015_2016 = np.intersect1d(scores_2014.PLAYER, np.intersect1d(scores_2015.PLAYER, scores_2016.PLAYER))\n",
    "intersect_2017_2018 = np.intersect1d(scores_2017.PLAYER, scores_2018.PLAYER)\n",
    "\n",
    "players = np.intersect1d(intersect_2014_2015_2016, intersect_2017_2018)\n",
    "\n",
    "rankings_2014 = getRankings(players, scores_2014).reset_index()\n",
    "rankings_2015 = getRankings(players, scores_2015).reset_index()\n",
    "rankings_2016 = getRankings(players, scores_2016).reset_index()\n",
    "rankings_2017 = getRankings(players, scores_2017).reset_index()\n",
    "rankings_2018 = getRankings(players, scores_2018).reset_index()"
   ]
  },
  {
   "cell_type": "code",
   "execution_count": 27,
   "metadata": {},
   "outputs": [],
   "source": [
    "all_rankings = [rankings_2014, rankings_2015, rankings_2016, rankings_2017, rankings_2018]\n",
    "# compared to this (YTD Official World Golf Ranking)\n",
    "official_2018 = getOfficial(2018, players)\n",
    "\n",
    "ranked_players_01 = list(map(nameFormat, computeRanks(players, all_rankings, \"0-1\")))\n",
    "\n",
    "resize_official = np.full((len(ranked_players_01), 1), None)\n",
    "resize_official[:len(official_2018)] = np.array(official_2018['PLAYER']).reshape(len(official_2018), 1)\n",
    "\n",
    "list_resize_official = list(resize_official)"
   ]
  },
  {
   "cell_type": "code",
   "execution_count": 28,
   "metadata": {},
   "outputs": [
    {
     "name": "stdout",
     "output_type": "stream",
     "text": [
      "22.9130434783\n"
     ]
    }
   ],
   "source": [
    "# 0-1 Metric\n",
    "ranked_players_01 = list(map(nameFormat, computeRanks(players, all_rankings, \"0-1\")))\n",
    "mse_01 = mse(list_resize_official, ranked_players_01)\n",
    "print(mse_01)"
   ]
  },
  {
   "cell_type": "code",
   "execution_count": 29,
   "metadata": {},
   "outputs": [
    {
     "name": "stdout",
     "output_type": "stream",
     "text": [
      "48.9565217391\n"
     ]
    }
   ],
   "source": [
    "# 1-alpha Metric\n",
    "ranked_players_1alpha = list(map(nameFormat, computeRanks(players, all_rankings, \"1-alpha\")))\n",
    "mse_1alpha = mse(list_resize_official, ranked_players_1alpha)\n",
    "print(mse_1alpha)"
   ]
  },
  {
   "cell_type": "code",
   "execution_count": 30,
   "metadata": {},
   "outputs": [
    {
     "name": "stdout",
     "output_type": "stream",
     "text": [
      "22.9130434783\n"
     ]
    }
   ],
   "source": [
    "# discount scores Metric\n",
    "ranked_players_discount_scores = list(map(nameFormat, computeRanks(players, all_rankings, \"discount_scores\")))\n",
    "mse_discount = mse(list_resize_official, ranked_players_discount_scores)\n",
    "print(mse_discount)"
   ]
  },
  {
   "cell_type": "code",
   "execution_count": 31,
   "metadata": {},
   "outputs": [
    {
     "name": "stdout",
     "output_type": "stream",
     "text": [
      "26.652173913\n"
     ]
    }
   ],
   "source": [
    "# discount ranks Metric\n",
    "ranked_players_discount_ranks = list(map(nameFormat, computeRanks(players, all_rankings, \"discount_ranks\", discountYear=True)))\n",
    "mse_discount_ranks = mse(list_resize_official, ranked_players_discount_ranks)\n",
    "print(mse_discount_ranks)"
   ]
  },
  {
   "cell_type": "code",
   "execution_count": 32,
   "metadata": {},
   "outputs": [],
   "source": [
    "# different 2018 official scores\n",
    "ranked_2018_list = list(np.array(list(map(nameFormat, np.array(rankings_2018[\"PLAYER\"])))).reshape(len(rankings_2018[\"PLAYER\"]), 1))\n",
    "new_mse_discount_ranks = mse(ranked_2018_list, ranked_players_discount_ranks)\n",
    "new_mse_discount_scores = mse(ranked_2018_list, ranked_players_discount_scores)\n",
    "new_mse_01 = mse(ranked_2018_list, ranked_players_01)\n",
    "new_mse_1alpha = mse(ranked_2018_list, ranked_players_1alpha)"
   ]
  },
  {
   "cell_type": "code",
   "execution_count": 33,
   "metadata": {},
   "outputs": [
    {
     "data": {
      "text/plain": [
       "10.451612903225806"
      ]
     },
     "execution_count": 33,
     "metadata": {},
     "output_type": "execute_result"
    }
   ],
   "source": [
    "new_mse_discount_ranks"
   ]
  },
  {
   "cell_type": "code",
   "execution_count": 34,
   "metadata": {},
   "outputs": [
    {
     "data": {
      "text/plain": [
       "30.0"
      ]
     },
     "execution_count": 34,
     "metadata": {},
     "output_type": "execute_result"
    }
   ],
   "source": [
    "new_mse_discount_scores"
   ]
  },
  {
   "cell_type": "code",
   "execution_count": 35,
   "metadata": {},
   "outputs": [
    {
     "data": {
      "text/plain": [
       "30.0"
      ]
     },
     "execution_count": 35,
     "metadata": {},
     "output_type": "execute_result"
    }
   ],
   "source": [
    "new_mse_01"
   ]
  },
  {
   "cell_type": "code",
   "execution_count": 36,
   "metadata": {},
   "outputs": [
    {
     "data": {
      "text/plain": [
       "39.548387096774192"
      ]
     },
     "execution_count": 36,
     "metadata": {},
     "output_type": "execute_result"
    }
   ],
   "source": [
    "new_mse_1alpha"
   ]
  },
  {
   "cell_type": "code",
   "execution_count": 37,
   "metadata": {},
   "outputs": [
    {
     "data": {
      "text/plain": [
       "[array(['Patrick Reed'], \n",
       "       dtype='<U16'), array(['Rickie Fowler'], \n",
       "       dtype='<U16'), array(['Jordan Spieth'], \n",
       "       dtype='<U16'), array(['Rory McIlroy'], \n",
       "       dtype='<U16'), array(['Henrik Stenson'], \n",
       "       dtype='<U16'), array(['Bubba Watson'], \n",
       "       dtype='<U16'), array(['Louis Oosthuizen'], \n",
       "       dtype='<U16'), array(['Justin Rose'], \n",
       "       dtype='<U16'), array(['Hideki Matsuyama'], \n",
       "       dtype='<U16'), array(['Jason Day'], \n",
       "       dtype='<U16'), array(['Webb Simpson'], \n",
       "       dtype='<U16'), array(['Jimmy Walker'], \n",
       "       dtype='<U16'), array(['Branden Grace'], \n",
       "       dtype='<U16'), array(['Matt Kuchar'], \n",
       "       dtype='<U16'), array(['Ryan Moore'], \n",
       "       dtype='<U16'), array(['Adam Scott'], \n",
       "       dtype='<U16'), array(['Zach Johnson'], \n",
       "       dtype='<U16'), array(['Phil Mickelson'], \n",
       "       dtype='<U16'), array(['Bernhard Langer'], \n",
       "       dtype='<U16'), array(['Martin Kaymer'], \n",
       "       dtype='<U16'), array(['Vijay Singh'], \n",
       "       dtype='<U16'), array(['Jason Dufner'], \n",
       "       dtype='<U16'), array(['Sandy Lyle'], \n",
       "       dtype='<U16'), array(['Charl Schwartzel'], \n",
       "       dtype='<U16'), array(['Trevor Immelman'], \n",
       "       dtype='<U16'), array(['Mike Weir'], \n",
       "       dtype='<U16'), array(['Ian Woosnam'], \n",
       "       dtype='<U16'), array(['Larry Mize'], \n",
       "       dtype='<U16'), array(['Angel Cabrera'], \n",
       "       dtype='<U16'), array(['Sergio Garcia'], \n",
       "       dtype='<U16'), array([\"Mark O'Meara\"], \n",
       "       dtype='<U16')]"
      ]
     },
     "execution_count": 37,
     "metadata": {},
     "output_type": "execute_result"
    }
   ],
   "source": [
    "ranked_2018_list"
   ]
  },
  {
   "cell_type": "code",
   "execution_count": 40,
   "metadata": {},
   "outputs": [
    {
     "name": "stdout",
     "output_type": "stream",
     "text": [
      "0 Justin Rose\tPatrick Reed\n",
      "1 Rickie Fowler\tRickie Fowler\n",
      "2 Jordan Spieth\tJordan Spieth\n",
      "3 Rory McIlroy\tRory McIlroy\n",
      "4 Henrik Stenson\tHenrik Stenson\n",
      "5 Louis Oosthuizen\tBubba Watson\n",
      "6 Bubba Watson\tLouis Oosthuizen\n",
      "7 Patrick Reed\tJustin Rose\n",
      "8 Hideki Matsuyama\tHideki Matsuyama\n",
      "9 Jason Day\tJason Day\n",
      "10 Jimmy Walker\tWebb Simpson\n",
      "11 Matt Kuchar\tJimmy Walker\n",
      "12 Ryan Moore\tBranden Grace\n",
      "13 Adam Scott\tMatt Kuchar\n",
      "14 Phil Mickelson\tRyan Moore\n",
      "15 Webb Simpson\tAdam Scott\n",
      "16 Branden Grace\tZach Johnson\n",
      "17 Charl Schwartzel\tPhil Mickelson\n",
      "18 Zach Johnson\tBernhard Langer\n",
      "19 Martin Kaymer\tMartin Kaymer\n",
      "20 Bernhard Langer\tVijay Singh\n",
      "21 Vijay Singh\tJason Dufner\n",
      "22 Sergio Garcia\tSandy Lyle\n",
      "23 Jason Dufner\tCharl Schwartzel\n",
      "24 Larry Mize\tTrevor Immelman\n",
      "25 Angel Cabrera\tMike Weir\n",
      "26 Sandy Lyle\tIan Woosnam\n",
      "27 Trevor Immelman\tLarry Mize\n",
      "28 Ian Woosnam\tAngel Cabrera\n",
      "29 Mike Weir\tSergio Garcia\n",
      "30 Mark O'Meara\tMark O'Meara\n"
     ]
    }
   ],
   "source": [
    "for i in range(len(ranked_players_discount_ranks)):\n",
    "    print(str(i) + \" \" + ranked_players_discount_ranks[i] + \"\\t\" + ranked_2018_list[i][0])"
   ]
  },
  {
   "cell_type": "code",
   "execution_count": null,
   "metadata": {},
   "outputs": [],
   "source": []
  }
 ],
 "metadata": {
  "kernelspec": {
   "display_name": "Python 3",
   "language": "python",
   "name": "python3"
  },
  "language_info": {
   "codemirror_mode": {
    "name": "ipython",
    "version": 3
   },
   "file_extension": ".py",
   "mimetype": "text/x-python",
   "name": "python",
   "nbconvert_exporter": "python",
   "pygments_lexer": "ipython3",
   "version": "3.5.4"
  }
 },
 "nbformat": 4,
 "nbformat_minor": 2
}
